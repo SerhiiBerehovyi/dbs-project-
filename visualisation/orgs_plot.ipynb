{
 "cells": [
  {
   "metadata": {},
   "cell_type": "markdown",
   "source": "# Lesen von Daten",
   "id": "b58dcdcd0d388179"
  },
  {
   "cell_type": "code",
   "id": "initial_id",
   "metadata": {
    "collapsed": true,
    "ExecuteTime": {
     "end_time": "2024-07-01T17:33:19.648554Z",
     "start_time": "2024-07-01T17:30:52.866160Z"
    }
   },
   "source": [
    "import psycopg2\n",
    "\n",
    "conn = psycopg2.connect(\n",
    "    host=\"localhost\",\n",
    "    database=\"postgres\",\n",
    "    user=\"serhii\",\n",
    "    password=\"password\"\n",
    ")\n",
    "\n",
    "cur = conn.cursor()\n",
    "\n",
    "with open(\"../work/queries/count_queries_with_cast_members.sql\", 'r') as file:\n",
    "    sql_script = file.read()\n",
    "\n",
    "cur.execute(sql_script)\n",
    "\n",
    "records = cur.fetchall()\n",
    "\n",
    "cur.close()\n",
    "conn.close()"
   ],
   "outputs": [
    {
     "name": "stdout",
     "output_type": "stream",
     "text": [
      "('Akiva Goldsman', 1, datetime.date(2006, 5, 24))\n",
      "('Alfred Molina', 2, datetime.date(2006, 3, 21))\n",
      "('Alfred Molina', 2, datetime.date(2006, 5, 5))\n",
      "('Alfred Molina', 1, datetime.date(2006, 5, 22))\n",
      "('Alfred Molina', 1, datetime.date(2006, 5, 26))\n",
      "('Andy Robb', 5, datetime.date(2006, 3, 23))\n",
      "('Andy Robb', 4, datetime.date(2006, 3, 29))\n",
      "('Andy Robb', 3, datetime.date(2006, 4, 12))\n",
      "('Andy Robb', 1, datetime.date(2006, 5, 9))\n",
      "('Andy Robb', 1, datetime.date(2006, 5, 11))\n",
      "('Andy Skinner', 1, datetime.date(2006, 4, 25))\n",
      "('Andy Skinner', 1, datetime.date(2006, 5, 26))\n",
      "('Audrey Tautou', 14, datetime.date(2006, 3, 6))\n",
      "('Audrey Tautou', 5, datetime.date(2006, 3, 12))\n",
      "('Audrey Tautou', 1, datetime.date(2006, 4, 24))\n",
      "('Audrey Tautou', 1, datetime.date(2006, 4, 25))\n",
      "('Audrey Tautou', 13, datetime.date(2006, 4, 30))\n",
      "('Audrey Tautou', 1, datetime.date(2006, 5, 3))\n",
      "('Audrey Tautou', 1, datetime.date(2006, 5, 7))\n",
      "('Audrey Tautou', 2, datetime.date(2006, 5, 9))\n",
      "('Audrey Tautou', 2, datetime.date(2006, 5, 10))\n",
      "('Audrey Tautou', 2, datetime.date(2006, 5, 11))\n",
      "('Audrey Tautou', 5, datetime.date(2006, 5, 12))\n",
      "('Audrey Tautou', 10, datetime.date(2006, 5, 18))\n",
      "('Audrey Tautou', 10, datetime.date(2006, 5, 19))\n",
      "('Audrey Tautou', 47, datetime.date(2006, 5, 20))\n",
      "('Audrey Tautou', 8, datetime.date(2006, 5, 21))\n",
      "('Audrey Tautou', 8, datetime.date(2006, 5, 22))\n",
      "('Audrey Tautou', 20, datetime.date(2006, 5, 23))\n",
      "('Audrey Tautou', 80, datetime.date(2006, 5, 24))\n",
      "('Audrey Tautou', 2, datetime.date(2006, 5, 25))\n",
      "('Audrey Tautou', 13, datetime.date(2006, 5, 26))\n",
      "('Audrey Tautou', 2, datetime.date(2006, 5, 29))\n",
      "('Brian Grazer', 1, datetime.date(2006, 3, 28))\n",
      "('Charlie Rose', 1, datetime.date(2006, 3, 2))\n",
      "('Charlie Rose', 2, datetime.date(2006, 3, 6))\n",
      "('Charlie Rose', 1, datetime.date(2006, 3, 7))\n",
      "('Charlie Rose', 1, datetime.date(2006, 3, 8))\n",
      "('Charlie Rose', 1, datetime.date(2006, 3, 10))\n",
      "('Charlie Rose', 3, datetime.date(2006, 3, 12))\n",
      "('Charlie Rose', 2, datetime.date(2006, 3, 14))\n",
      "('Charlie Rose', 1, datetime.date(2006, 3, 15))\n",
      "('Charlie Rose', 3, datetime.date(2006, 3, 16))\n",
      "('Charlie Rose', 7, datetime.date(2006, 3, 22))\n",
      "('Charlie Rose', 3, datetime.date(2006, 3, 23))\n",
      "('Charlie Rose', 3, datetime.date(2006, 3, 24))\n",
      "('Charlie Rose', 1, datetime.date(2006, 3, 27))\n",
      "('Charlie Rose', 5, datetime.date(2006, 3, 28))\n",
      "('Charlie Rose', 27, datetime.date(2006, 3, 30))\n",
      "('Charlie Rose', 2, datetime.date(2006, 4, 1))\n",
      "('Charlie Rose', 2, datetime.date(2006, 4, 2))\n",
      "('Charlie Rose', 1, datetime.date(2006, 4, 5))\n",
      "('Charlie Rose', 2, datetime.date(2006, 4, 6))\n",
      "('Charlie Rose', 1, datetime.date(2006, 4, 7))\n",
      "('Charlie Rose', 3, datetime.date(2006, 4, 11))\n",
      "('Charlie Rose', 1, datetime.date(2006, 4, 12))\n",
      "('Charlie Rose', 1, datetime.date(2006, 4, 20))\n",
      "('Charlie Rose', 10, datetime.date(2006, 4, 21))\n",
      "('Charlie Rose', 1, datetime.date(2006, 4, 22))\n",
      "('Charlie Rose', 1, datetime.date(2006, 4, 24))\n",
      "('Charlie Rose', 5, datetime.date(2006, 4, 27))\n",
      "('Charlie Rose', 2, datetime.date(2006, 4, 28))\n",
      "('Charlie Rose', 2, datetime.date(2006, 4, 30))\n",
      "('Charlie Rose', 6, datetime.date(2006, 5, 1))\n",
      "('Charlie Rose', 1, datetime.date(2006, 5, 2))\n",
      "('Charlie Rose', 1, datetime.date(2006, 5, 3))\n",
      "('Charlie Rose', 4, datetime.date(2006, 5, 4))\n",
      "('Charlie Rose', 6, datetime.date(2006, 5, 5))\n",
      "('Charlie Rose', 1, datetime.date(2006, 5, 8))\n",
      "('Charlie Rose', 1, datetime.date(2006, 5, 9))\n",
      "('Charlie Rose', 5, datetime.date(2006, 5, 10))\n",
      "('Charlie Rose', 3, datetime.date(2006, 5, 11))\n",
      "('Charlie Rose', 7, datetime.date(2006, 5, 12))\n",
      "('Charlie Rose', 4, datetime.date(2006, 5, 18))\n",
      "('Charlie Rose', 1, datetime.date(2006, 5, 25))\n",
      "('Charlie Rose', 2, datetime.date(2006, 5, 26))\n",
      "('Charlie Rose', 2, datetime.date(2006, 5, 30))\n",
      "('Charlie Rose', 2, datetime.date(2006, 5, 31))\n",
      "('Cheryl Howard', 1, datetime.date(2006, 3, 27))\n",
      "('Cheryl Howard', 2, datetime.date(2006, 3, 31))\n",
      "('Chris Wilson', 6, datetime.date(2006, 3, 3))\n",
      "('Chris Wilson', 1, datetime.date(2006, 3, 12))\n",
      "('Chris Wilson', 1, datetime.date(2006, 3, 20))\n",
      "('Chris Wilson', 12, datetime.date(2006, 3, 21))\n",
      "('Chris Wilson', 1, datetime.date(2006, 5, 4))\n",
      "('Chris Wilson', 1, datetime.date(2006, 5, 28))\n",
      "('Dan Brown', 14, datetime.date(2006, 3, 1))\n",
      "('Dan Brown', 2, datetime.date(2006, 3, 3))\n",
      "('Dan Brown', 14, datetime.date(2006, 3, 4))\n",
      "('Dan Brown', 16, datetime.date(2006, 3, 7))\n",
      "('Dan Brown', 2, datetime.date(2006, 3, 8))\n",
      "('Dan Brown', 2, datetime.date(2006, 3, 9))\n",
      "('Dan Brown', 4, datetime.date(2006, 3, 10))\n",
      "('Dan Brown', 4, datetime.date(2006, 3, 11))\n",
      "('Dan Brown', 4, datetime.date(2006, 3, 12))\n",
      "('Dan Brown', 8, datetime.date(2006, 3, 14))\n",
      "('Dan Brown', 2, datetime.date(2006, 3, 16))\n",
      "('Dan Brown', 4, datetime.date(2006, 3, 17))\n",
      "('Dan Brown', 6, datetime.date(2006, 3, 18))\n",
      "('Dan Brown', 6, datetime.date(2006, 3, 19))\n",
      "('Dan Brown', 16, datetime.date(2006, 3, 20))\n",
      "('Dan Brown', 4, datetime.date(2006, 3, 21))\n",
      "('Dan Brown', 8, datetime.date(2006, 3, 23))\n",
      "('Dan Brown', 6, datetime.date(2006, 3, 24))\n",
      "('Dan Brown', 4, datetime.date(2006, 3, 25))\n",
      "('Dan Brown', 16, datetime.date(2006, 3, 26))\n",
      "('Dan Brown', 6, datetime.date(2006, 3, 28))\n",
      "('Dan Brown', 18, datetime.date(2006, 3, 30))\n",
      "('Dan Brown', 2, datetime.date(2006, 4, 2))\n",
      "('Dan Brown', 6, datetime.date(2006, 4, 3))\n",
      "('Dan Brown', 2, datetime.date(2006, 4, 4))\n",
      "('Dan Brown', 2, datetime.date(2006, 4, 5))\n",
      "('Dan Brown', 6, datetime.date(2006, 4, 6))\n",
      "('Dan Brown', 8, datetime.date(2006, 4, 7))\n",
      "('Dan Brown', 8, datetime.date(2006, 4, 8))\n",
      "('Dan Brown', 6, datetime.date(2006, 4, 9))\n",
      "('Dan Brown', 26, datetime.date(2006, 4, 10))\n",
      "('Dan Brown', 4, datetime.date(2006, 4, 11))\n",
      "('Dan Brown', 2, datetime.date(2006, 4, 12))\n",
      "('Dan Brown', 4, datetime.date(2006, 4, 15))\n",
      "('Dan Brown', 2, datetime.date(2006, 4, 16))\n",
      "('Dan Brown', 8, datetime.date(2006, 4, 17))\n",
      "('Dan Brown', 2, datetime.date(2006, 4, 18))\n",
      "('Dan Brown', 8, datetime.date(2006, 4, 20))\n",
      "('Dan Brown', 8, datetime.date(2006, 4, 22))\n",
      "('Dan Brown', 32, datetime.date(2006, 4, 23))\n",
      "('Dan Brown', 2, datetime.date(2006, 4, 25))\n",
      "('Dan Brown', 2, datetime.date(2006, 4, 27))\n",
      "('Dan Brown', 4, datetime.date(2006, 4, 29))\n",
      "('Dan Brown', 4, datetime.date(2006, 4, 30))\n",
      "('Dan Brown', 4, datetime.date(2006, 5, 1))\n",
      "('Dan Brown', 8, datetime.date(2006, 5, 2))\n",
      "('Dan Brown', 12, datetime.date(2006, 5, 3))\n",
      "('Dan Brown', 2, datetime.date(2006, 5, 4))\n",
      "('Dan Brown', 2, datetime.date(2006, 5, 6))\n",
      "('Dan Brown', 6, datetime.date(2006, 5, 7))\n",
      "('Dan Brown', 2, datetime.date(2006, 5, 9))\n",
      "('Dan Brown', 6, datetime.date(2006, 5, 10))\n",
      "('Dan Brown', 10, datetime.date(2006, 5, 11))\n",
      "('Dan Brown', 6, datetime.date(2006, 5, 12))\n",
      "('Dan Brown', 6, datetime.date(2006, 5, 13))\n",
      "('Dan Brown', 4, datetime.date(2006, 5, 14))\n",
      "('Dan Brown', 2, datetime.date(2006, 5, 15))\n",
      "('Dan Brown', 28, datetime.date(2006, 5, 16))\n",
      "('Dan Brown', 4, datetime.date(2006, 5, 17))\n",
      "('Dan Brown', 40, datetime.date(2006, 5, 18))\n",
      "('Dan Brown', 32, datetime.date(2006, 5, 19))\n",
      "('Dan Brown', 8, datetime.date(2006, 5, 20))\n",
      "('Dan Brown', 10, datetime.date(2006, 5, 21))\n",
      "('Dan Brown', 12, datetime.date(2006, 5, 22))\n",
      "('Dan Brown', 4, datetime.date(2006, 5, 23))\n",
      "('Dan Brown', 6, datetime.date(2006, 5, 24))\n",
      "('Dan Brown', 4, datetime.date(2006, 5, 25))\n",
      "('Dan Brown', 22, datetime.date(2006, 5, 26))\n",
      "('Dan Brown', 36, datetime.date(2006, 5, 27))\n",
      "('Dan Brown', 4, datetime.date(2006, 5, 29))\n",
      "('Dan Brown', 18, datetime.date(2006, 5, 30))\n",
      "('Dan Brown', 8, datetime.date(2006, 5, 31))\n",
      "('Drew P.', 7, datetime.date(2006, 3, 2))\n",
      "('Drew P.', 1, datetime.date(2006, 3, 24))\n",
      "('Drew P.', 1, datetime.date(2006, 4, 10))\n",
      "('Drew P.', 5, datetime.date(2006, 4, 17))\n",
      "('Hans Zimmer', 1, datetime.date(2006, 3, 2))\n",
      "('Hans Zimmer', 1, datetime.date(2006, 3, 19))\n",
      "('Hans Zimmer', 2, datetime.date(2006, 3, 22))\n",
      "('Hans Zimmer', 2, datetime.date(2006, 3, 23))\n",
      "('Hans Zimmer', 2, datetime.date(2006, 3, 27))\n",
      "('Hans Zimmer', 3, datetime.date(2006, 3, 29))\n",
      "('Hans Zimmer', 1, datetime.date(2006, 4, 9))\n",
      "('Hans Zimmer', 1, datetime.date(2006, 4, 16))\n",
      "('Hans Zimmer', 2, datetime.date(2006, 4, 27))\n",
      "('Ian McKellen', 1, datetime.date(2006, 3, 2))\n",
      "('Ian McKellen', 4, datetime.date(2006, 3, 7))\n",
      "('Ian McKellen', 11, datetime.date(2006, 4, 9))\n",
      "('Ian McKellen', 3, datetime.date(2006, 4, 10))\n",
      "('Ian McKellen', 3, datetime.date(2006, 4, 16))\n",
      "('Ian McKellen', 1, datetime.date(2006, 4, 17))\n",
      "('Ian McKellen', 1, datetime.date(2006, 4, 29))\n",
      "('Ian McKellen', 1, datetime.date(2006, 5, 3))\n",
      "('Ian McKellen', 4, datetime.date(2006, 5, 18))\n",
      "('Ian McKellen', 3, datetime.date(2006, 5, 19))\n",
      "('Ian McKellen', 2, datetime.date(2006, 5, 24))\n",
      "('Ian McKellen', 3, datetime.date(2006, 5, 26))\n",
      "('Ian McKellen', 3, datetime.date(2006, 5, 28))\n",
      "('Jean Reno', 1, datetime.date(2006, 3, 1))\n",
      "('Jean Reno', 1, datetime.date(2006, 3, 9))\n",
      "('Jean Reno', 1, datetime.date(2006, 3, 24))\n",
      "('Jean Reno', 1, datetime.date(2006, 3, 28))\n",
      "('Jean Reno', 2, datetime.date(2006, 4, 6))\n",
      "('Jean Reno', 15, datetime.date(2006, 4, 18))\n",
      "('Jean Reno', 7, datetime.date(2006, 5, 4))\n",
      "('Jean Reno', 1, datetime.date(2006, 5, 21))\n",
      "('Jean Reno', 1, datetime.date(2006, 5, 26))\n",
      "('Paul Adams', 2, datetime.date(2006, 3, 28))\n",
      "('Paul Bettany', 3, datetime.date(2006, 3, 13))\n",
      "('Paul Bettany', 3, datetime.date(2006, 3, 25))\n",
      "('Paul Bettany', 1, datetime.date(2006, 4, 5))\n",
      "('Paul Bettany', 1, datetime.date(2006, 4, 22))\n",
      "('Paul Bettany', 26, datetime.date(2006, 4, 28))\n",
      "('Paul Bettany', 3, datetime.date(2006, 5, 20))\n",
      "('Paul Bettany', 2, datetime.date(2006, 5, 21))\n",
      "('Paul Bettany', 2, datetime.date(2006, 5, 22))\n",
      "('Paul Bettany', 1, datetime.date(2006, 5, 23))\n",
      "('Paul Bettany', 2, datetime.date(2006, 5, 24))\n",
      "('Paul Bettany', 17, datetime.date(2006, 5, 28))\n",
      "('Paul Bettany', 1, datetime.date(2006, 5, 31))\n",
      "('Paul Hann', 5, datetime.date(2006, 3, 28))\n",
      "('Paul Hann', 2, datetime.date(2006, 3, 31))\n",
      "('Robert Stone', 4, datetime.date(2006, 3, 8))\n",
      "('Robert Stone', 4, datetime.date(2006, 3, 12))\n",
      "('Robert Stone', 1, datetime.date(2006, 5, 1))\n",
      "('Ron Howard', 6, datetime.date(2006, 3, 1))\n",
      "('Ron Howard', 1, datetime.date(2006, 3, 2))\n",
      "('Ron Howard', 1, datetime.date(2006, 3, 8))\n",
      "('Ron Howard', 3, datetime.date(2006, 3, 9))\n",
      "('Ron Howard', 10, datetime.date(2006, 3, 10))\n",
      "('Ron Howard', 1, datetime.date(2006, 3, 13))\n",
      "('Ron Howard', 1, datetime.date(2006, 3, 15))\n",
      "('Ron Howard', 1, datetime.date(2006, 3, 17))\n",
      "('Ron Howard', 1, datetime.date(2006, 3, 19))\n",
      "('Ron Howard', 5, datetime.date(2006, 3, 25))\n",
      "('Ron Howard', 3, datetime.date(2006, 3, 27))\n",
      "('Ron Howard', 2, datetime.date(2006, 4, 3))\n",
      "('Ron Howard', 1, datetime.date(2006, 4, 4))\n",
      "('Ron Howard', 1, datetime.date(2006, 4, 13))\n",
      "('Ron Howard', 6, datetime.date(2006, 4, 17))\n",
      "('Ron Howard', 2, datetime.date(2006, 4, 23))\n",
      "('Ron Howard', 3, datetime.date(2006, 4, 27))\n",
      "('Ron Howard', 2, datetime.date(2006, 4, 30))\n",
      "('Ron Howard', 3, datetime.date(2006, 5, 2))\n",
      "('Ron Howard', 1, datetime.date(2006, 5, 6))\n",
      "('Ron Howard', 1, datetime.date(2006, 5, 7))\n",
      "('Ron Howard', 1, datetime.date(2006, 5, 8))\n",
      "('Ron Howard', 1, datetime.date(2006, 5, 9))\n",
      "('Ron Howard', 1, datetime.date(2006, 5, 10))\n",
      "('Ron Howard', 2, datetime.date(2006, 5, 11))\n",
      "('Ron Howard', 3, datetime.date(2006, 5, 13))\n",
      "('Ron Howard', 4, datetime.date(2006, 5, 15))\n",
      "('Ron Howard', 22, datetime.date(2006, 5, 16))\n",
      "('Ron Howard', 2, datetime.date(2006, 5, 18))\n",
      "('Ron Howard', 14, datetime.date(2006, 5, 19))\n",
      "('Ron Howard', 17, datetime.date(2006, 5, 20))\n",
      "('Ron Howard', 12, datetime.date(2006, 5, 21))\n",
      "('Ron Howard', 8, datetime.date(2006, 5, 22))\n",
      "('Ron Howard', 2, datetime.date(2006, 5, 24))\n",
      "('Ron Howard', 2, datetime.date(2006, 5, 25))\n",
      "('Ron Howard', 2, datetime.date(2006, 5, 26))\n",
      "('Ron Howard', 6, datetime.date(2006, 5, 27))\n",
      "('Ron Howard', 3, datetime.date(2006, 5, 28))\n",
      "('Ron Howard', 7, datetime.date(2006, 5, 29))\n",
      "('Ron Howard', 1, datetime.date(2006, 5, 31))\n",
      "('Tom Barker', 11, datetime.date(2006, 4, 21))\n",
      "('Tom Hanks', 2, datetime.date(2006, 3, 1))\n",
      "('Tom Hanks', 5, datetime.date(2006, 3, 3))\n",
      "('Tom Hanks', 2, datetime.date(2006, 3, 4))\n",
      "('Tom Hanks', 4, datetime.date(2006, 3, 5))\n",
      "('Tom Hanks', 8, datetime.date(2006, 3, 6))\n",
      "('Tom Hanks', 3, datetime.date(2006, 3, 7))\n",
      "('Tom Hanks', 1, datetime.date(2006, 3, 8))\n",
      "('Tom Hanks', 7, datetime.date(2006, 3, 9))\n",
      "('Tom Hanks', 8, datetime.date(2006, 3, 10))\n",
      "('Tom Hanks', 3, datetime.date(2006, 3, 11))\n",
      "('Tom Hanks', 6, datetime.date(2006, 3, 12))\n",
      "('Tom Hanks', 3, datetime.date(2006, 3, 13))\n",
      "('Tom Hanks', 1, datetime.date(2006, 3, 14))\n",
      "('Tom Hanks', 2, datetime.date(2006, 3, 15))\n",
      "('Tom Hanks', 3, datetime.date(2006, 3, 16))\n",
      "('Tom Hanks', 3, datetime.date(2006, 3, 17))\n",
      "('Tom Hanks', 2, datetime.date(2006, 3, 19))\n",
      "('Tom Hanks', 4, datetime.date(2006, 3, 20))\n",
      "('Tom Hanks', 1, datetime.date(2006, 3, 21))\n",
      "('Tom Hanks', 2, datetime.date(2006, 3, 23))\n",
      "('Tom Hanks', 1, datetime.date(2006, 3, 25))\n",
      "('Tom Hanks', 6, datetime.date(2006, 3, 26))\n",
      "('Tom Hanks', 1, datetime.date(2006, 3, 27))\n",
      "('Tom Hanks', 1, datetime.date(2006, 3, 28))\n",
      "('Tom Hanks', 1, datetime.date(2006, 3, 29))\n",
      "('Tom Hanks', 1, datetime.date(2006, 3, 30))\n",
      "('Tom Hanks', 2, datetime.date(2006, 3, 31))\n",
      "('Tom Hanks', 2, datetime.date(2006, 4, 1))\n",
      "('Tom Hanks', 1, datetime.date(2006, 4, 2))\n",
      "('Tom Hanks', 7, datetime.date(2006, 4, 3))\n",
      "('Tom Hanks', 12, datetime.date(2006, 4, 5))\n",
      "('Tom Hanks', 1, datetime.date(2006, 4, 7))\n",
      "('Tom Hanks', 1, datetime.date(2006, 4, 8))\n",
      "('Tom Hanks', 2, datetime.date(2006, 4, 9))\n",
      "('Tom Hanks', 2, datetime.date(2006, 4, 11))\n",
      "('Tom Hanks', 1, datetime.date(2006, 4, 12))\n",
      "('Tom Hanks', 1, datetime.date(2006, 4, 16))\n",
      "('Tom Hanks', 4, datetime.date(2006, 4, 18))\n",
      "('Tom Hanks', 4, datetime.date(2006, 4, 19))\n",
      "('Tom Hanks', 2, datetime.date(2006, 4, 20))\n",
      "('Tom Hanks', 2, datetime.date(2006, 4, 21))\n",
      "('Tom Hanks', 3, datetime.date(2006, 4, 22))\n",
      "('Tom Hanks', 3, datetime.date(2006, 4, 23))\n",
      "('Tom Hanks', 1, datetime.date(2006, 4, 25))\n",
      "('Tom Hanks', 4, datetime.date(2006, 4, 26))\n",
      "('Tom Hanks', 4, datetime.date(2006, 4, 29))\n",
      "('Tom Hanks', 1, datetime.date(2006, 4, 30))\n",
      "('Tom Hanks', 9, datetime.date(2006, 5, 1))\n",
      "('Tom Hanks', 4, datetime.date(2006, 5, 2))\n",
      "('Tom Hanks', 1, datetime.date(2006, 5, 3))\n",
      "('Tom Hanks', 3, datetime.date(2006, 5, 4))\n",
      "('Tom Hanks', 2, datetime.date(2006, 5, 5))\n",
      "('Tom Hanks', 7, datetime.date(2006, 5, 6))\n",
      "('Tom Hanks', 2, datetime.date(2006, 5, 7))\n",
      "('Tom Hanks', 3, datetime.date(2006, 5, 8))\n",
      "('Tom Hanks', 4, datetime.date(2006, 5, 9))\n",
      "('Tom Hanks', 2, datetime.date(2006, 5, 10))\n",
      "('Tom Hanks', 2, datetime.date(2006, 5, 11))\n",
      "('Tom Hanks', 4, datetime.date(2006, 5, 12))\n",
      "('Tom Hanks', 13, datetime.date(2006, 5, 13))\n",
      "('Tom Hanks', 10, datetime.date(2006, 5, 14))\n",
      "('Tom Hanks', 1, datetime.date(2006, 5, 15))\n",
      "('Tom Hanks', 3, datetime.date(2006, 5, 16))\n",
      "('Tom Hanks', 7, datetime.date(2006, 5, 18))\n",
      "('Tom Hanks', 6, datetime.date(2006, 5, 19))\n",
      "('Tom Hanks', 25, datetime.date(2006, 5, 20))\n",
      "('Tom Hanks', 7, datetime.date(2006, 5, 21))\n",
      "('Tom Hanks', 4, datetime.date(2006, 5, 22))\n",
      "('Tom Hanks', 2, datetime.date(2006, 5, 23))\n",
      "('Tom Hanks', 1, datetime.date(2006, 5, 24))\n",
      "('Tom Hanks', 5, datetime.date(2006, 5, 26))\n",
      "('Tom Hanks', 5, datetime.date(2006, 5, 27))\n",
      "('Tom Hanks', 2, datetime.date(2006, 5, 28))\n",
      "('Tom Hanks', 1, datetime.date(2006, 5, 29))\n",
      "('Tom Hanks', 8, datetime.date(2006, 5, 30))\n",
      "('Tom Hanks', 2, datetime.date(2006, 5, 31))\n"
     ]
    }
   ],
   "execution_count": 131
  },
  {
   "metadata": {},
   "cell_type": "markdown",
   "source": "# Visualisierung von Daten",
   "id": "de1a4e81d3c65694"
  },
  {
   "metadata": {},
   "cell_type": "markdown",
   "source": "## Grafik für Gesamtzahl der Abfragen pro Tag nach Schauspieler erstellen",
   "id": "c01c0a3ea614d756"
  },
  {
   "metadata": {},
   "cell_type": "markdown",
   "source": "### Python Module zur Visualisierung importieren ",
   "id": "77a621408702d638"
  },
  {
   "metadata": {
    "ExecuteTime": {
     "end_time": "2024-07-01T17:33:19.652844Z",
     "start_time": "2024-07-01T17:33:19.650687Z"
    }
   },
   "cell_type": "code",
   "source": [
    "import pandas as pd\n",
    "import plotly.graph_objects as go\n",
    "import datetime"
   ],
   "id": "213a97ce41888ed1",
   "outputs": [],
   "execution_count": 132
  },
  {
   "metadata": {},
   "cell_type": "markdown",
   "source": "### DataFrame erstellen und die Daten vorbereiten ",
   "id": "e845991a39490ac0"
  },
  {
   "metadata": {
    "ExecuteTime": {
     "end_time": "2024-07-01T17:33:19.662703Z",
     "start_time": "2024-07-01T17:33:19.654406Z"
    }
   },
   "cell_type": "code",
   "source": [
    "# DataFrame erstellen\n",
    "df = pd.DataFrame(records, columns=['actor', 'queries', 'date'])\n",
    "\n",
    "# 'date' in datetime umwandeln\n",
    "df['date'] = pd.to_datetime(df['date'])\n",
    "\n",
    "# Gruppieren von Daten nach Datum und Akteuren \n",
    "grouped_df = df.groupby(['date', 'actor']).sum().reset_index()\n",
    "\n",
    "# unique Schauspieler und Dates finden\n",
    "actors = grouped_df['actor'].unique()\n",
    "dates = grouped_df['date'].unique()\n",
    "\n",
    "# Daten für eine interaktive Grafik vorbereiten\n",
    "data = []\n",
    "hover_text_dict = {}\n"
   ],
   "id": "c0418823b2c88881",
   "outputs": [],
   "execution_count": 133
  },
  {
   "metadata": {},
   "cell_type": "markdown",
   "source": "### Die Daten für Grafik einlesen und die Spalten für jeden Schauspieler erstellen",
   "id": "930ed8659496419e"
  },
  {
   "metadata": {
    "ExecuteTime": {
     "end_time": "2024-07-01T17:33:19.714457Z",
     "start_time": "2024-07-01T17:33:19.664891Z"
    }
   },
   "cell_type": "code",
   "source": [
    "# Füllen eines Wörterbuchs zum Speichern von Hover-Text nach Datum\n",
    "for date in dates:\n",
    "    daily_data = grouped_df[grouped_df['date'] == date]\n",
    "    total_queries = daily_data['queries'].sum()\n",
    "    hover_text_parts = {}\n",
    "    for _, row in daily_data.iterrows():\n",
    "        percent = (row['queries'] / total_queries) * 100 if total_queries != 0 else 0\n",
    "        hover_text_parts[row['actor']] = f\"({percent:.2f}%)\"\n",
    "    hover_text_dict[date] = hover_text_parts\n",
    "\n",
    "\n",
    "# Spalten für jeden Schauspielern erstellen\n",
    "for actor in actors:\n",
    "    actor_data = grouped_df[grouped_df['actor'] == actor]\n",
    "    hover_text = [hover_text_dict[date][actor]  for date in actor_data['date']]\n",
    "\n",
    "    data.append(go.Bar(\n",
    "        x=actor_data['date'],\n",
    "        y=actor_data['queries'],\n",
    "        name=actor,\n",
    "        text=hover_text,\n",
    "        # hovertextsrc=\"date\",\n",
    "        marker=dict(line=dict(width=0.5))\n",
    "    ))\n"
   ],
   "id": "fcfd3eb6a4c1c1e0",
   "outputs": [],
   "execution_count": 134
  },
  {
   "metadata": {},
   "cell_type": "markdown",
   "source": "### Publikationsdatum von Code Da'Vinci Film zum Diagramm hinzufügen  ",
   "id": "d9cf2edc4323ff27"
  },
  {
   "metadata": {
    "ExecuteTime": {
     "end_time": "2024-07-01T19:25:50.461490Z",
     "start_time": "2024-07-01T19:25:50.456688Z"
    }
   },
   "cell_type": "code",
   "source": [
    "# Hinzufügen einer vertikalen Linie für das Veröffentlichungsdatum vom Film \"The Da Vinci Code\"\n",
    "release_date = datetime.date(2006, 5, 19)\n",
    "release_line = go.Scatter(\n",
    "    x=[release_date, release_date],\n",
    "    y=[0, grouped_df['queries'].max()],\n",
    "    mode='lines',\n",
    "    name='The Da Vinci Code Release',\n",
    "    line=dict(color='red', width=4, dash='dash'),\n",
    "    hoverinfo='skip'  # Убираем hover для линии\n",
    ")\n"
   ],
   "id": "cc40bd72e6581840",
   "outputs": [],
   "execution_count": 142
  },
  {
   "metadata": {},
   "cell_type": "markdown",
   "source": "### Die Grafik für tägliche Darstellung einstellen und zeichnen ",
   "id": "1eddaacc62fd50c8"
  },
  {
   "metadata": {
    "ExecuteTime": {
     "end_time": "2024-07-01T17:37:13.975524Z",
     "start_time": "2024-07-01T17:37:13.958087Z"
    }
   },
   "cell_type": "code",
   "source": [
    "# Einstellungen für das Diagrammlayout\n",
    "layout = go.Layout(\n",
    "    title='Total Queries per Day by Actor',\n",
    "    xaxis=dict(title='Date'),\n",
    "    yaxis=dict(title='Total Queries'),\n",
    "    barmode='stack',\n",
    "    hovermode='x unified',\n",
    "    height=700  \n",
    ")\n",
    "\n",
    "# Eine Grafik erstellen und Daten hinzufügen\n",
    "fig = go.Figure(data=data, layout=layout)\n",
    "fig.add_trace(release_line)\n",
    "\n",
    "fig.show()\n"
   ],
   "id": "ed7e122023008892",
   "outputs": [
    {
     "data": {
      "application/vnd.plotly.v1+json": {
       "data": [
        {
         "marker": {
          "line": {
           "width": 0.5
          }
         },
         "name": "Dan Brown",
         "text": [
          "(60.87%)",
          "(15.38%)",
          "(87.50%)",
          "(66.67%)",
          "(22.22%)",
          "(15.38%)",
          "(17.39%)",
          "(57.14%)",
          "(17.39%)",
          "(72.73%)",
          "(25.00%)",
          "(50.00%)",
          "(100.00%)",
          "(60.00%)",
          "(76.19%)",
          "(21.05%)",
          "(40.00%)",
          "(54.55%)",
          "(30.77%)",
          "(72.73%)",
          "(28.57%)",
          "(39.13%)",
          "(40.00%)",
          "(40.00%)",
          "(66.67%)",
          "(12.50%)",
          "(60.00%)",
          "(80.00%)",
          "(88.89%)",
          "(30.00%)",
          "(86.67%)",
          "(44.44%)",
          "(28.57%)",
          "(100.00%)",
          "(28.57%)",
          "(40.00%)",
          "(9.52%)",
          "(72.73%)",
          "(61.54%)",
          "(86.49%)",
          "(40.00%)",
          "(16.67%)",
          "(44.44%)",
          "(18.18%)",
          "(20.00%)",
          "(50.00%)",
          "(75.00%)",
          "(11.76%)",
          "(20.00%)",
          "(60.00%)",
          "(18.18%)",
          "(37.50%)",
          "(50.00%)",
          "(27.27%)",
          "(27.27%)",
          "(28.57%)",
          "(28.57%)",
          "(52.83%)",
          "(100.00%)",
          "(59.70%)",
          "(49.23%)",
          "(8.00%)",
          "(25.00%)",
          "(34.29%)",
          "(14.81%)",
          "(6.38%)",
          "(44.44%)",
          "(44.00%)",
          "(76.60%)",
          "(28.57%)",
          "(64.29%)",
          "(57.14%)"
         ],
         "x": [
          "2006-03-01T00:00:00",
          "2006-03-03T00:00:00",
          "2006-03-04T00:00:00",
          "2006-03-07T00:00:00",
          "2006-03-08T00:00:00",
          "2006-03-09T00:00:00",
          "2006-03-10T00:00:00",
          "2006-03-11T00:00:00",
          "2006-03-12T00:00:00",
          "2006-03-14T00:00:00",
          "2006-03-16T00:00:00",
          "2006-03-17T00:00:00",
          "2006-03-18T00:00:00",
          "2006-03-19T00:00:00",
          "2006-03-20T00:00:00",
          "2006-03-21T00:00:00",
          "2006-03-23T00:00:00",
          "2006-03-24T00:00:00",
          "2006-03-25T00:00:00",
          "2006-03-26T00:00:00",
          "2006-03-28T00:00:00",
          "2006-03-30T00:00:00",
          "2006-04-02T00:00:00",
          "2006-04-03T00:00:00",
          "2006-04-04T00:00:00",
          "2006-04-05T00:00:00",
          "2006-04-06T00:00:00",
          "2006-04-07T00:00:00",
          "2006-04-08T00:00:00",
          "2006-04-09T00:00:00",
          "2006-04-10T00:00:00",
          "2006-04-11T00:00:00",
          "2006-04-12T00:00:00",
          "2006-04-15T00:00:00",
          "2006-04-16T00:00:00",
          "2006-04-17T00:00:00",
          "2006-04-18T00:00:00",
          "2006-04-20T00:00:00",
          "2006-04-22T00:00:00",
          "2006-04-23T00:00:00",
          "2006-04-25T00:00:00",
          "2006-04-27T00:00:00",
          "2006-04-29T00:00:00",
          "2006-04-30T00:00:00",
          "2006-05-01T00:00:00",
          "2006-05-02T00:00:00",
          "2006-05-03T00:00:00",
          "2006-05-04T00:00:00",
          "2006-05-06T00:00:00",
          "2006-05-07T00:00:00",
          "2006-05-09T00:00:00",
          "2006-05-10T00:00:00",
          "2006-05-11T00:00:00",
          "2006-05-12T00:00:00",
          "2006-05-13T00:00:00",
          "2006-05-14T00:00:00",
          "2006-05-15T00:00:00",
          "2006-05-16T00:00:00",
          "2006-05-17T00:00:00",
          "2006-05-18T00:00:00",
          "2006-05-19T00:00:00",
          "2006-05-20T00:00:00",
          "2006-05-21T00:00:00",
          "2006-05-22T00:00:00",
          "2006-05-23T00:00:00",
          "2006-05-24T00:00:00",
          "2006-05-25T00:00:00",
          "2006-05-26T00:00:00",
          "2006-05-27T00:00:00",
          "2006-05-29T00:00:00",
          "2006-05-30T00:00:00",
          "2006-05-31T00:00:00"
         ],
         "y": [
          14,
          2,
          14,
          16,
          2,
          2,
          4,
          4,
          4,
          8,
          2,
          4,
          6,
          6,
          16,
          4,
          8,
          6,
          4,
          16,
          6,
          18,
          2,
          6,
          2,
          2,
          6,
          8,
          8,
          6,
          26,
          4,
          2,
          4,
          2,
          8,
          2,
          8,
          8,
          32,
          2,
          2,
          4,
          4,
          4,
          8,
          12,
          2,
          2,
          6,
          2,
          6,
          10,
          6,
          6,
          4,
          2,
          28,
          4,
          40,
          32,
          8,
          10,
          12,
          4,
          6,
          4,
          22,
          36,
          4,
          18,
          8
         ],
         "type": "bar"
        },
        {
         "marker": {
          "line": {
           "width": 0.5
          }
         },
         "name": "Jean Reno",
         "text": [
          "(4.35%)",
          "(7.69%)",
          "(9.09%)",
          "(4.76%)",
          "(20.00%)",
          "(71.43%)",
          "(41.18%)",
          "(2.50%)",
          "(2.00%)"
         ],
         "x": [
          "2006-03-01T00:00:00",
          "2006-03-09T00:00:00",
          "2006-03-24T00:00:00",
          "2006-03-28T00:00:00",
          "2006-04-06T00:00:00",
          "2006-04-18T00:00:00",
          "2006-05-04T00:00:00",
          "2006-05-21T00:00:00",
          "2006-05-26T00:00:00"
         ],
         "y": [
          1,
          1,
          1,
          1,
          2,
          15,
          7,
          1,
          1
         ],
         "type": "bar"
        },
        {
         "marker": {
          "line": {
           "width": 0.5
          }
         },
         "name": "Ron Howard",
         "text": [
          "(26.09%)",
          "(9.09%)",
          "(11.11%)",
          "(23.08%)",
          "(43.48%)",
          "(14.29%)",
          "(25.00%)",
          "(12.50%)",
          "(10.00%)",
          "(38.46%)",
          "(37.50%)",
          "(13.33%)",
          "(33.33%)",
          "(100.00%)",
          "(30.00%)",
          "(5.41%)",
          "(25.00%)",
          "(9.09%)",
          "(18.75%)",
          "(10.00%)",
          "(10.00%)",
          "(20.00%)",
          "(9.09%)",
          "(6.25%)",
          "(10.00%)",
          "(13.64%)",
          "(57.14%)",
          "(41.51%)",
          "(2.99%)",
          "(21.54%)",
          "(17.00%)",
          "(30.00%)",
          "(22.86%)",
          "(2.13%)",
          "(22.22%)",
          "(4.00%)",
          "(12.77%)",
          "(11.54%)",
          "(50.00%)",
          "(7.14%)"
         ],
         "x": [
          "2006-03-01T00:00:00",
          "2006-03-02T00:00:00",
          "2006-03-08T00:00:00",
          "2006-03-09T00:00:00",
          "2006-03-10T00:00:00",
          "2006-03-13T00:00:00",
          "2006-03-15T00:00:00",
          "2006-03-17T00:00:00",
          "2006-03-19T00:00:00",
          "2006-03-25T00:00:00",
          "2006-03-27T00:00:00",
          "2006-04-03T00:00:00",
          "2006-04-04T00:00:00",
          "2006-04-13T00:00:00",
          "2006-04-17T00:00:00",
          "2006-04-23T00:00:00",
          "2006-04-27T00:00:00",
          "2006-04-30T00:00:00",
          "2006-05-02T00:00:00",
          "2006-05-06T00:00:00",
          "2006-05-07T00:00:00",
          "2006-05-08T00:00:00",
          "2006-05-09T00:00:00",
          "2006-05-10T00:00:00",
          "2006-05-11T00:00:00",
          "2006-05-13T00:00:00",
          "2006-05-15T00:00:00",
          "2006-05-16T00:00:00",
          "2006-05-18T00:00:00",
          "2006-05-19T00:00:00",
          "2006-05-20T00:00:00",
          "2006-05-21T00:00:00",
          "2006-05-22T00:00:00",
          "2006-05-24T00:00:00",
          "2006-05-25T00:00:00",
          "2006-05-26T00:00:00",
          "2006-05-27T00:00:00",
          "2006-05-28T00:00:00",
          "2006-05-29T00:00:00",
          "2006-05-31T00:00:00"
         ],
         "y": [
          6,
          1,
          1,
          3,
          10,
          1,
          1,
          1,
          1,
          5,
          3,
          2,
          1,
          1,
          6,
          2,
          3,
          2,
          3,
          1,
          1,
          1,
          1,
          1,
          2,
          3,
          4,
          22,
          2,
          14,
          17,
          12,
          8,
          2,
          2,
          2,
          6,
          3,
          7,
          1
         ],
         "type": "bar"
        },
        {
         "marker": {
          "line": {
           "width": 0.5
          }
         },
         "name": "Tom Hanks",
         "text": [
          "(8.70%)",
          "(38.46%)",
          "(12.50%)",
          "(100.00%)",
          "(33.33%)",
          "(12.50%)",
          "(11.11%)",
          "(53.85%)",
          "(34.78%)",
          "(42.86%)",
          "(26.09%)",
          "(42.86%)",
          "(9.09%)",
          "(50.00%)",
          "(37.50%)",
          "(37.50%)",
          "(20.00%)",
          "(19.05%)",
          "(5.26%)",
          "(10.00%)",
          "(7.69%)",
          "(27.27%)",
          "(12.50%)",
          "(4.76%)",
          "(12.50%)",
          "(2.17%)",
          "(33.33%)",
          "(50.00%)",
          "(20.00%)",
          "(46.67%)",
          "(75.00%)",
          "(10.00%)",
          "(11.11%)",
          "(10.00%)",
          "(22.22%)",
          "(14.29%)",
          "(14.29%)",
          "(19.05%)",
          "(100.00%)",
          "(18.18%)",
          "(8.70%)",
          "(23.08%)",
          "(8.11%)",
          "(20.00%)",
          "(100.00%)",
          "(44.44%)",
          "(4.55%)",
          "(45.00%)",
          "(25.00%)",
          "(6.25%)",
          "(17.65%)",
          "(20.00%)",
          "(70.00%)",
          "(20.00%)",
          "(60.00%)",
          "(36.36%)",
          "(12.50%)",
          "(10.00%)",
          "(18.18%)",
          "(59.09%)",
          "(71.43%)",
          "(14.29%)",
          "(5.66%)",
          "(10.45%)",
          "(9.23%)",
          "(25.00%)",
          "(17.50%)",
          "(11.43%)",
          "(7.41%)",
          "(1.06%)",
          "(10.00%)",
          "(10.64%)",
          "(7.69%)",
          "(7.14%)",
          "(28.57%)",
          "(14.29%)"
         ],
         "x": [
          "2006-03-01T00:00:00",
          "2006-03-03T00:00:00",
          "2006-03-04T00:00:00",
          "2006-03-05T00:00:00",
          "2006-03-06T00:00:00",
          "2006-03-07T00:00:00",
          "2006-03-08T00:00:00",
          "2006-03-09T00:00:00",
          "2006-03-10T00:00:00",
          "2006-03-11T00:00:00",
          "2006-03-12T00:00:00",
          "2006-03-13T00:00:00",
          "2006-03-14T00:00:00",
          "2006-03-15T00:00:00",
          "2006-03-16T00:00:00",
          "2006-03-17T00:00:00",
          "2006-03-19T00:00:00",
          "2006-03-20T00:00:00",
          "2006-03-21T00:00:00",
          "2006-03-23T00:00:00",
          "2006-03-25T00:00:00",
          "2006-03-26T00:00:00",
          "2006-03-27T00:00:00",
          "2006-03-28T00:00:00",
          "2006-03-29T00:00:00",
          "2006-03-30T00:00:00",
          "2006-03-31T00:00:00",
          "2006-04-01T00:00:00",
          "2006-04-02T00:00:00",
          "2006-04-03T00:00:00",
          "2006-04-05T00:00:00",
          "2006-04-07T00:00:00",
          "2006-04-08T00:00:00",
          "2006-04-09T00:00:00",
          "2006-04-11T00:00:00",
          "2006-04-12T00:00:00",
          "2006-04-16T00:00:00",
          "2006-04-18T00:00:00",
          "2006-04-19T00:00:00",
          "2006-04-20T00:00:00",
          "2006-04-21T00:00:00",
          "2006-04-22T00:00:00",
          "2006-04-23T00:00:00",
          "2006-04-25T00:00:00",
          "2006-04-26T00:00:00",
          "2006-04-29T00:00:00",
          "2006-04-30T00:00:00",
          "2006-05-01T00:00:00",
          "2006-05-02T00:00:00",
          "2006-05-03T00:00:00",
          "2006-05-04T00:00:00",
          "2006-05-05T00:00:00",
          "2006-05-06T00:00:00",
          "2006-05-07T00:00:00",
          "2006-05-08T00:00:00",
          "2006-05-09T00:00:00",
          "2006-05-10T00:00:00",
          "2006-05-11T00:00:00",
          "2006-05-12T00:00:00",
          "2006-05-13T00:00:00",
          "2006-05-14T00:00:00",
          "2006-05-15T00:00:00",
          "2006-05-16T00:00:00",
          "2006-05-18T00:00:00",
          "2006-05-19T00:00:00",
          "2006-05-20T00:00:00",
          "2006-05-21T00:00:00",
          "2006-05-22T00:00:00",
          "2006-05-23T00:00:00",
          "2006-05-24T00:00:00",
          "2006-05-26T00:00:00",
          "2006-05-27T00:00:00",
          "2006-05-28T00:00:00",
          "2006-05-29T00:00:00",
          "2006-05-30T00:00:00",
          "2006-05-31T00:00:00"
         ],
         "y": [
          2,
          5,
          2,
          4,
          8,
          3,
          1,
          7,
          8,
          3,
          6,
          3,
          1,
          2,
          3,
          3,
          2,
          4,
          1,
          2,
          1,
          6,
          1,
          1,
          1,
          1,
          2,
          2,
          1,
          7,
          12,
          1,
          1,
          2,
          2,
          1,
          1,
          4,
          4,
          2,
          2,
          3,
          3,
          1,
          4,
          4,
          1,
          9,
          4,
          1,
          3,
          2,
          7,
          2,
          3,
          4,
          2,
          2,
          4,
          13,
          10,
          1,
          3,
          7,
          6,
          25,
          7,
          4,
          2,
          1,
          5,
          5,
          2,
          1,
          8,
          2
         ],
         "type": "bar"
        },
        {
         "marker": {
          "line": {
           "width": 0.5
          }
         },
         "name": "Charlie Rose",
         "text": [
          "(9.09%)",
          "(8.33%)",
          "(4.17%)",
          "(11.11%)",
          "(4.35%)",
          "(13.04%)",
          "(18.18%)",
          "(25.00%)",
          "(37.50%)",
          "(77.78%)",
          "(15.00%)",
          "(27.27%)",
          "(12.50%)",
          "(23.81%)",
          "(58.70%)",
          "(50.00%)",
          "(40.00%)",
          "(6.25%)",
          "(20.00%)",
          "(10.00%)",
          "(33.33%)",
          "(14.29%)",
          "(9.09%)",
          "(43.48%)",
          "(7.69%)",
          "(50.00%)",
          "(41.67%)",
          "(7.14%)",
          "(9.09%)",
          "(30.00%)",
          "(6.25%)",
          "(6.25%)",
          "(23.53%)",
          "(60.00%)",
          "(20.00%)",
          "(9.09%)",
          "(31.25%)",
          "(15.00%)",
          "(31.82%)",
          "(5.97%)",
          "(11.11%)",
          "(4.00%)",
          "(7.14%)",
          "(14.29%)"
         ],
         "x": [
          "2006-03-02T00:00:00",
          "2006-03-06T00:00:00",
          "2006-03-07T00:00:00",
          "2006-03-08T00:00:00",
          "2006-03-10T00:00:00",
          "2006-03-12T00:00:00",
          "2006-03-14T00:00:00",
          "2006-03-15T00:00:00",
          "2006-03-16T00:00:00",
          "2006-03-22T00:00:00",
          "2006-03-23T00:00:00",
          "2006-03-24T00:00:00",
          "2006-03-27T00:00:00",
          "2006-03-28T00:00:00",
          "2006-03-30T00:00:00",
          "2006-04-01T00:00:00",
          "2006-04-02T00:00:00",
          "2006-04-05T00:00:00",
          "2006-04-06T00:00:00",
          "2006-04-07T00:00:00",
          "2006-04-11T00:00:00",
          "2006-04-12T00:00:00",
          "2006-04-20T00:00:00",
          "2006-04-21T00:00:00",
          "2006-04-22T00:00:00",
          "2006-04-24T00:00:00",
          "2006-04-27T00:00:00",
          "2006-04-28T00:00:00",
          "2006-04-30T00:00:00",
          "2006-05-01T00:00:00",
          "2006-05-02T00:00:00",
          "2006-05-03T00:00:00",
          "2006-05-04T00:00:00",
          "2006-05-05T00:00:00",
          "2006-05-08T00:00:00",
          "2006-05-09T00:00:00",
          "2006-05-10T00:00:00",
          "2006-05-11T00:00:00",
          "2006-05-12T00:00:00",
          "2006-05-18T00:00:00",
          "2006-05-25T00:00:00",
          "2006-05-26T00:00:00",
          "2006-05-30T00:00:00",
          "2006-05-31T00:00:00"
         ],
         "y": [
          1,
          2,
          1,
          1,
          1,
          3,
          2,
          1,
          3,
          7,
          3,
          3,
          1,
          5,
          27,
          2,
          2,
          1,
          2,
          1,
          3,
          1,
          1,
          10,
          1,
          1,
          5,
          2,
          2,
          6,
          1,
          1,
          4,
          6,
          1,
          1,
          5,
          3,
          7,
          4,
          1,
          2,
          2,
          2
         ],
         "type": "bar"
        },
        {
         "marker": {
          "line": {
           "width": 0.5
          }
         },
         "name": "Drew P.",
         "text": [
          "(63.64%)",
          "(9.09%)",
          "(3.33%)",
          "(25.00%)"
         ],
         "x": [
          "2006-03-02T00:00:00",
          "2006-03-24T00:00:00",
          "2006-04-10T00:00:00",
          "2006-04-17T00:00:00"
         ],
         "y": [
          7,
          1,
          1,
          5
         ],
         "type": "bar"
        },
        {
         "marker": {
          "line": {
           "width": 0.5
          }
         },
         "name": "Hans Zimmer",
         "text": [
          "(9.09%)",
          "(10.00%)",
          "(22.22%)",
          "(10.00%)",
          "(25.00%)",
          "(37.50%)",
          "(5.00%)",
          "(14.29%)",
          "(16.67%)"
         ],
         "x": [
          "2006-03-02T00:00:00",
          "2006-03-19T00:00:00",
          "2006-03-22T00:00:00",
          "2006-03-23T00:00:00",
          "2006-03-27T00:00:00",
          "2006-03-29T00:00:00",
          "2006-04-09T00:00:00",
          "2006-04-16T00:00:00",
          "2006-04-27T00:00:00"
         ],
         "y": [
          1,
          1,
          2,
          2,
          2,
          3,
          1,
          1,
          2
         ],
         "type": "bar"
        },
        {
         "marker": {
          "line": {
           "width": 0.5
          }
         },
         "name": "Ian McKellen",
         "text": [
          "(9.09%)",
          "(16.67%)",
          "(55.00%)",
          "(10.00%)",
          "(42.86%)",
          "(5.00%)",
          "(11.11%)",
          "(6.25%)",
          "(5.97%)",
          "(4.62%)",
          "(2.13%)",
          "(6.00%)",
          "(11.54%)"
         ],
         "x": [
          "2006-03-02T00:00:00",
          "2006-03-07T00:00:00",
          "2006-04-09T00:00:00",
          "2006-04-10T00:00:00",
          "2006-04-16T00:00:00",
          "2006-04-17T00:00:00",
          "2006-04-29T00:00:00",
          "2006-05-03T00:00:00",
          "2006-05-18T00:00:00",
          "2006-05-19T00:00:00",
          "2006-05-24T00:00:00",
          "2006-05-26T00:00:00",
          "2006-05-28T00:00:00"
         ],
         "y": [
          1,
          4,
          11,
          3,
          3,
          1,
          1,
          1,
          4,
          3,
          2,
          3,
          3
         ],
         "type": "bar"
        },
        {
         "marker": {
          "line": {
           "width": 0.5
          }
         },
         "name": "Chris Wilson",
         "text": [
          "(46.15%)",
          "(4.35%)",
          "(4.76%)",
          "(63.16%)",
          "(5.88%)",
          "(3.85%)"
         ],
         "x": [
          "2006-03-03T00:00:00",
          "2006-03-12T00:00:00",
          "2006-03-20T00:00:00",
          "2006-03-21T00:00:00",
          "2006-05-04T00:00:00",
          "2006-05-28T00:00:00"
         ],
         "y": [
          6,
          1,
          1,
          12,
          1,
          1
         ],
         "type": "bar"
        },
        {
         "marker": {
          "line": {
           "width": 0.5
          }
         },
         "name": "Audrey Tautou",
         "text": [
          "(58.33%)",
          "(21.74%)",
          "(50.00%)",
          "(20.00%)",
          "(59.09%)",
          "(6.25%)",
          "(10.00%)",
          "(18.18%)",
          "(12.50%)",
          "(10.00%)",
          "(22.73%)",
          "(14.93%)",
          "(15.38%)",
          "(47.00%)",
          "(20.00%)",
          "(22.86%)",
          "(74.07%)",
          "(85.11%)",
          "(22.22%)",
          "(26.00%)",
          "(14.29%)"
         ],
         "x": [
          "2006-03-06T00:00:00",
          "2006-03-12T00:00:00",
          "2006-04-24T00:00:00",
          "2006-04-25T00:00:00",
          "2006-04-30T00:00:00",
          "2006-05-03T00:00:00",
          "2006-05-07T00:00:00",
          "2006-05-09T00:00:00",
          "2006-05-10T00:00:00",
          "2006-05-11T00:00:00",
          "2006-05-12T00:00:00",
          "2006-05-18T00:00:00",
          "2006-05-19T00:00:00",
          "2006-05-20T00:00:00",
          "2006-05-21T00:00:00",
          "2006-05-22T00:00:00",
          "2006-05-23T00:00:00",
          "2006-05-24T00:00:00",
          "2006-05-25T00:00:00",
          "2006-05-26T00:00:00",
          "2006-05-29T00:00:00"
         ],
         "y": [
          14,
          5,
          1,
          1,
          13,
          1,
          1,
          2,
          2,
          2,
          5,
          10,
          10,
          47,
          8,
          8,
          20,
          80,
          2,
          13,
          2
         ],
         "type": "bar"
        },
        {
         "marker": {
          "line": {
           "width": 0.5
          }
         },
         "name": "Robert Stone",
         "text": [
          "(44.44%)",
          "(17.39%)",
          "(5.00%)"
         ],
         "x": [
          "2006-03-08T00:00:00",
          "2006-03-12T00:00:00",
          "2006-05-01T00:00:00"
         ],
         "y": [
          4,
          4,
          1
         ],
         "type": "bar"
        },
        {
         "marker": {
          "line": {
           "width": 0.5
          }
         },
         "name": "Paul Bettany",
         "text": [
          "(42.86%)",
          "(23.08%)",
          "(6.25%)",
          "(7.69%)",
          "(92.86%)",
          "(3.00%)",
          "(5.00%)",
          "(5.71%)",
          "(3.70%)",
          "(2.13%)",
          "(65.38%)",
          "(7.14%)"
         ],
         "x": [
          "2006-03-13T00:00:00",
          "2006-03-25T00:00:00",
          "2006-04-05T00:00:00",
          "2006-04-22T00:00:00",
          "2006-04-28T00:00:00",
          "2006-05-20T00:00:00",
          "2006-05-21T00:00:00",
          "2006-05-22T00:00:00",
          "2006-05-23T00:00:00",
          "2006-05-24T00:00:00",
          "2006-05-28T00:00:00",
          "2006-05-31T00:00:00"
         ],
         "y": [
          3,
          3,
          1,
          1,
          26,
          3,
          2,
          2,
          1,
          2,
          17,
          1
         ],
         "type": "bar"
        },
        {
         "marker": {
          "line": {
           "width": 0.5
          }
         },
         "name": "Alfred Molina",
         "text": [
          "(10.53%)",
          "(20.00%)",
          "(2.86%)",
          "(2.00%)"
         ],
         "x": [
          "2006-03-21T00:00:00",
          "2006-05-05T00:00:00",
          "2006-05-22T00:00:00",
          "2006-05-26T00:00:00"
         ],
         "y": [
          2,
          2,
          1,
          1
         ],
         "type": "bar"
        },
        {
         "marker": {
          "line": {
           "width": 0.5
          }
         },
         "name": "Andy Robb",
         "text": [
          "(25.00%)",
          "(50.00%)",
          "(42.86%)",
          "(9.09%)",
          "(5.00%)"
         ],
         "x": [
          "2006-03-23T00:00:00",
          "2006-03-29T00:00:00",
          "2006-04-12T00:00:00",
          "2006-05-09T00:00:00",
          "2006-05-11T00:00:00"
         ],
         "y": [
          5,
          4,
          3,
          1,
          1
         ],
         "type": "bar"
        },
        {
         "marker": {
          "line": {
           "width": 0.5
          }
         },
         "name": "Cheryl Howard",
         "text": [
          "(12.50%)",
          "(33.33%)"
         ],
         "x": [
          "2006-03-27T00:00:00",
          "2006-03-31T00:00:00"
         ],
         "y": [
          1,
          2
         ],
         "type": "bar"
        },
        {
         "marker": {
          "line": {
           "width": 0.5
          }
         },
         "name": "Brian Grazer",
         "text": [
          "(4.76%)"
         ],
         "x": [
          "2006-03-28T00:00:00"
         ],
         "y": [
          1
         ],
         "type": "bar"
        },
        {
         "marker": {
          "line": {
           "width": 0.5
          }
         },
         "name": "Paul Adams",
         "text": [
          "(9.52%)"
         ],
         "x": [
          "2006-03-28T00:00:00"
         ],
         "y": [
          2
         ],
         "type": "bar"
        },
        {
         "marker": {
          "line": {
           "width": 0.5
          }
         },
         "name": "Paul Hann",
         "text": [
          "(23.81%)",
          "(33.33%)"
         ],
         "x": [
          "2006-03-28T00:00:00",
          "2006-03-31T00:00:00"
         ],
         "y": [
          5,
          2
         ],
         "type": "bar"
        },
        {
         "marker": {
          "line": {
           "width": 0.5
          }
         },
         "name": "Tom Barker",
         "text": [
          "(47.83%)"
         ],
         "x": [
          "2006-04-21T00:00:00"
         ],
         "y": [
          11
         ],
         "type": "bar"
        },
        {
         "marker": {
          "line": {
           "width": 0.5
          }
         },
         "name": "Andy Skinner",
         "text": [
          "(20.00%)",
          "(2.00%)"
         ],
         "x": [
          "2006-04-25T00:00:00",
          "2006-05-26T00:00:00"
         ],
         "y": [
          1,
          1
         ],
         "type": "bar"
        },
        {
         "marker": {
          "line": {
           "width": 0.5
          }
         },
         "name": "Akiva Goldsman",
         "text": [
          "(1.06%)"
         ],
         "x": [
          "2006-05-24T00:00:00"
         ],
         "y": [
          1
         ],
         "type": "bar"
        },
        {
         "hoverinfo": "skip",
         "line": {
          "color": "red",
          "dash": "dash",
          "width": 4
         },
         "mode": "lines",
         "name": "The Da Vinci Code Release",
         "x": [
          "2006-05-19",
          "2006-05-19"
         ],
         "y": [
          0,
          80
         ],
         "type": "scatter"
        }
       ],
       "layout": {
        "barmode": "stack",
        "height": 700,
        "hovermode": "x unified",
        "title": {
         "text": "Total Queries per Day by Actor"
        },
        "xaxis": {
         "title": {
          "text": "Date"
         }
        },
        "yaxis": {
         "title": {
          "text": "Total Queries"
         }
        },
        "template": {
         "data": {
          "histogram2dcontour": [
           {
            "type": "histogram2dcontour",
            "colorbar": {
             "outlinewidth": 0,
             "ticks": ""
            },
            "colorscale": [
             [
              0.0,
              "#0d0887"
             ],
             [
              0.1111111111111111,
              "#46039f"
             ],
             [
              0.2222222222222222,
              "#7201a8"
             ],
             [
              0.3333333333333333,
              "#9c179e"
             ],
             [
              0.4444444444444444,
              "#bd3786"
             ],
             [
              0.5555555555555556,
              "#d8576b"
             ],
             [
              0.6666666666666666,
              "#ed7953"
             ],
             [
              0.7777777777777778,
              "#fb9f3a"
             ],
             [
              0.8888888888888888,
              "#fdca26"
             ],
             [
              1.0,
              "#f0f921"
             ]
            ]
           }
          ],
          "choropleth": [
           {
            "type": "choropleth",
            "colorbar": {
             "outlinewidth": 0,
             "ticks": ""
            }
           }
          ],
          "histogram2d": [
           {
            "type": "histogram2d",
            "colorbar": {
             "outlinewidth": 0,
             "ticks": ""
            },
            "colorscale": [
             [
              0.0,
              "#0d0887"
             ],
             [
              0.1111111111111111,
              "#46039f"
             ],
             [
              0.2222222222222222,
              "#7201a8"
             ],
             [
              0.3333333333333333,
              "#9c179e"
             ],
             [
              0.4444444444444444,
              "#bd3786"
             ],
             [
              0.5555555555555556,
              "#d8576b"
             ],
             [
              0.6666666666666666,
              "#ed7953"
             ],
             [
              0.7777777777777778,
              "#fb9f3a"
             ],
             [
              0.8888888888888888,
              "#fdca26"
             ],
             [
              1.0,
              "#f0f921"
             ]
            ]
           }
          ],
          "heatmap": [
           {
            "type": "heatmap",
            "colorbar": {
             "outlinewidth": 0,
             "ticks": ""
            },
            "colorscale": [
             [
              0.0,
              "#0d0887"
             ],
             [
              0.1111111111111111,
              "#46039f"
             ],
             [
              0.2222222222222222,
              "#7201a8"
             ],
             [
              0.3333333333333333,
              "#9c179e"
             ],
             [
              0.4444444444444444,
              "#bd3786"
             ],
             [
              0.5555555555555556,
              "#d8576b"
             ],
             [
              0.6666666666666666,
              "#ed7953"
             ],
             [
              0.7777777777777778,
              "#fb9f3a"
             ],
             [
              0.8888888888888888,
              "#fdca26"
             ],
             [
              1.0,
              "#f0f921"
             ]
            ]
           }
          ],
          "heatmapgl": [
           {
            "type": "heatmapgl",
            "colorbar": {
             "outlinewidth": 0,
             "ticks": ""
            },
            "colorscale": [
             [
              0.0,
              "#0d0887"
             ],
             [
              0.1111111111111111,
              "#46039f"
             ],
             [
              0.2222222222222222,
              "#7201a8"
             ],
             [
              0.3333333333333333,
              "#9c179e"
             ],
             [
              0.4444444444444444,
              "#bd3786"
             ],
             [
              0.5555555555555556,
              "#d8576b"
             ],
             [
              0.6666666666666666,
              "#ed7953"
             ],
             [
              0.7777777777777778,
              "#fb9f3a"
             ],
             [
              0.8888888888888888,
              "#fdca26"
             ],
             [
              1.0,
              "#f0f921"
             ]
            ]
           }
          ],
          "contourcarpet": [
           {
            "type": "contourcarpet",
            "colorbar": {
             "outlinewidth": 0,
             "ticks": ""
            }
           }
          ],
          "contour": [
           {
            "type": "contour",
            "colorbar": {
             "outlinewidth": 0,
             "ticks": ""
            },
            "colorscale": [
             [
              0.0,
              "#0d0887"
             ],
             [
              0.1111111111111111,
              "#46039f"
             ],
             [
              0.2222222222222222,
              "#7201a8"
             ],
             [
              0.3333333333333333,
              "#9c179e"
             ],
             [
              0.4444444444444444,
              "#bd3786"
             ],
             [
              0.5555555555555556,
              "#d8576b"
             ],
             [
              0.6666666666666666,
              "#ed7953"
             ],
             [
              0.7777777777777778,
              "#fb9f3a"
             ],
             [
              0.8888888888888888,
              "#fdca26"
             ],
             [
              1.0,
              "#f0f921"
             ]
            ]
           }
          ],
          "surface": [
           {
            "type": "surface",
            "colorbar": {
             "outlinewidth": 0,
             "ticks": ""
            },
            "colorscale": [
             [
              0.0,
              "#0d0887"
             ],
             [
              0.1111111111111111,
              "#46039f"
             ],
             [
              0.2222222222222222,
              "#7201a8"
             ],
             [
              0.3333333333333333,
              "#9c179e"
             ],
             [
              0.4444444444444444,
              "#bd3786"
             ],
             [
              0.5555555555555556,
              "#d8576b"
             ],
             [
              0.6666666666666666,
              "#ed7953"
             ],
             [
              0.7777777777777778,
              "#fb9f3a"
             ],
             [
              0.8888888888888888,
              "#fdca26"
             ],
             [
              1.0,
              "#f0f921"
             ]
            ]
           }
          ],
          "mesh3d": [
           {
            "type": "mesh3d",
            "colorbar": {
             "outlinewidth": 0,
             "ticks": ""
            }
           }
          ],
          "scatter": [
           {
            "marker": {
             "line": {
              "color": "#283442"
             }
            },
            "type": "scatter"
           }
          ],
          "parcoords": [
           {
            "type": "parcoords",
            "line": {
             "colorbar": {
              "outlinewidth": 0,
              "ticks": ""
             }
            }
           }
          ],
          "scatterpolargl": [
           {
            "type": "scatterpolargl",
            "marker": {
             "colorbar": {
              "outlinewidth": 0,
              "ticks": ""
             }
            }
           }
          ],
          "bar": [
           {
            "error_x": {
             "color": "#f2f5fa"
            },
            "error_y": {
             "color": "#f2f5fa"
            },
            "marker": {
             "line": {
              "color": "rgb(17,17,17)",
              "width": 0.5
             },
             "pattern": {
              "fillmode": "overlay",
              "size": 10,
              "solidity": 0.2
             }
            },
            "type": "bar"
           }
          ],
          "scattergeo": [
           {
            "type": "scattergeo",
            "marker": {
             "colorbar": {
              "outlinewidth": 0,
              "ticks": ""
             }
            }
           }
          ],
          "scatterpolar": [
           {
            "type": "scatterpolar",
            "marker": {
             "colorbar": {
              "outlinewidth": 0,
              "ticks": ""
             }
            }
           }
          ],
          "histogram": [
           {
            "marker": {
             "pattern": {
              "fillmode": "overlay",
              "size": 10,
              "solidity": 0.2
             }
            },
            "type": "histogram"
           }
          ],
          "scattergl": [
           {
            "marker": {
             "line": {
              "color": "#283442"
             }
            },
            "type": "scattergl"
           }
          ],
          "scatter3d": [
           {
            "type": "scatter3d",
            "line": {
             "colorbar": {
              "outlinewidth": 0,
              "ticks": ""
             }
            },
            "marker": {
             "colorbar": {
              "outlinewidth": 0,
              "ticks": ""
             }
            }
           }
          ],
          "scattermapbox": [
           {
            "type": "scattermapbox",
            "marker": {
             "colorbar": {
              "outlinewidth": 0,
              "ticks": ""
             }
            }
           }
          ],
          "scatterternary": [
           {
            "type": "scatterternary",
            "marker": {
             "colorbar": {
              "outlinewidth": 0,
              "ticks": ""
             }
            }
           }
          ],
          "scattercarpet": [
           {
            "type": "scattercarpet",
            "marker": {
             "colorbar": {
              "outlinewidth": 0,
              "ticks": ""
             }
            }
           }
          ],
          "carpet": [
           {
            "aaxis": {
             "endlinecolor": "#A2B1C6",
             "gridcolor": "#506784",
             "linecolor": "#506784",
             "minorgridcolor": "#506784",
             "startlinecolor": "#A2B1C6"
            },
            "baxis": {
             "endlinecolor": "#A2B1C6",
             "gridcolor": "#506784",
             "linecolor": "#506784",
             "minorgridcolor": "#506784",
             "startlinecolor": "#A2B1C6"
            },
            "type": "carpet"
           }
          ],
          "table": [
           {
            "cells": {
             "fill": {
              "color": "#506784"
             },
             "line": {
              "color": "rgb(17,17,17)"
             }
            },
            "header": {
             "fill": {
              "color": "#2a3f5f"
             },
             "line": {
              "color": "rgb(17,17,17)"
             }
            },
            "type": "table"
           }
          ],
          "barpolar": [
           {
            "marker": {
             "line": {
              "color": "rgb(17,17,17)",
              "width": 0.5
             },
             "pattern": {
              "fillmode": "overlay",
              "size": 10,
              "solidity": 0.2
             }
            },
            "type": "barpolar"
           }
          ],
          "pie": [
           {
            "automargin": true,
            "type": "pie"
           }
          ]
         },
         "layout": {
          "autotypenumbers": "strict",
          "colorway": [
           "#636efa",
           "#EF553B",
           "#00cc96",
           "#ab63fa",
           "#FFA15A",
           "#19d3f3",
           "#FF6692",
           "#B6E880",
           "#FF97FF",
           "#FECB52"
          ],
          "font": {
           "color": "#f2f5fa"
          },
          "hovermode": "closest",
          "hoverlabel": {
           "align": "left"
          },
          "paper_bgcolor": "rgb(17,17,17)",
          "plot_bgcolor": "rgb(17,17,17)",
          "polar": {
           "bgcolor": "rgb(17,17,17)",
           "angularaxis": {
            "gridcolor": "#506784",
            "linecolor": "#506784",
            "ticks": ""
           },
           "radialaxis": {
            "gridcolor": "#506784",
            "linecolor": "#506784",
            "ticks": ""
           }
          },
          "ternary": {
           "bgcolor": "rgb(17,17,17)",
           "aaxis": {
            "gridcolor": "#506784",
            "linecolor": "#506784",
            "ticks": ""
           },
           "baxis": {
            "gridcolor": "#506784",
            "linecolor": "#506784",
            "ticks": ""
           },
           "caxis": {
            "gridcolor": "#506784",
            "linecolor": "#506784",
            "ticks": ""
           }
          },
          "coloraxis": {
           "colorbar": {
            "outlinewidth": 0,
            "ticks": ""
           }
          },
          "colorscale": {
           "sequential": [
            [
             0.0,
             "#0d0887"
            ],
            [
             0.1111111111111111,
             "#46039f"
            ],
            [
             0.2222222222222222,
             "#7201a8"
            ],
            [
             0.3333333333333333,
             "#9c179e"
            ],
            [
             0.4444444444444444,
             "#bd3786"
            ],
            [
             0.5555555555555556,
             "#d8576b"
            ],
            [
             0.6666666666666666,
             "#ed7953"
            ],
            [
             0.7777777777777778,
             "#fb9f3a"
            ],
            [
             0.8888888888888888,
             "#fdca26"
            ],
            [
             1.0,
             "#f0f921"
            ]
           ],
           "sequentialminus": [
            [
             0.0,
             "#0d0887"
            ],
            [
             0.1111111111111111,
             "#46039f"
            ],
            [
             0.2222222222222222,
             "#7201a8"
            ],
            [
             0.3333333333333333,
             "#9c179e"
            ],
            [
             0.4444444444444444,
             "#bd3786"
            ],
            [
             0.5555555555555556,
             "#d8576b"
            ],
            [
             0.6666666666666666,
             "#ed7953"
            ],
            [
             0.7777777777777778,
             "#fb9f3a"
            ],
            [
             0.8888888888888888,
             "#fdca26"
            ],
            [
             1.0,
             "#f0f921"
            ]
           ],
           "diverging": [
            [
             0,
             "#8e0152"
            ],
            [
             0.1,
             "#c51b7d"
            ],
            [
             0.2,
             "#de77ae"
            ],
            [
             0.3,
             "#f1b6da"
            ],
            [
             0.4,
             "#fde0ef"
            ],
            [
             0.5,
             "#f7f7f7"
            ],
            [
             0.6,
             "#e6f5d0"
            ],
            [
             0.7,
             "#b8e186"
            ],
            [
             0.8,
             "#7fbc41"
            ],
            [
             0.9,
             "#4d9221"
            ],
            [
             1,
             "#276419"
            ]
           ]
          },
          "xaxis": {
           "gridcolor": "#283442",
           "linecolor": "#506784",
           "ticks": "",
           "title": {
            "standoff": 15
           },
           "zerolinecolor": "#283442",
           "automargin": true,
           "zerolinewidth": 2
          },
          "yaxis": {
           "gridcolor": "#283442",
           "linecolor": "#506784",
           "ticks": "",
           "title": {
            "standoff": 15
           },
           "zerolinecolor": "#283442",
           "automargin": true,
           "zerolinewidth": 2
          },
          "scene": {
           "xaxis": {
            "backgroundcolor": "rgb(17,17,17)",
            "gridcolor": "#506784",
            "linecolor": "#506784",
            "showbackground": true,
            "ticks": "",
            "zerolinecolor": "#C8D4E3",
            "gridwidth": 2
           },
           "yaxis": {
            "backgroundcolor": "rgb(17,17,17)",
            "gridcolor": "#506784",
            "linecolor": "#506784",
            "showbackground": true,
            "ticks": "",
            "zerolinecolor": "#C8D4E3",
            "gridwidth": 2
           },
           "zaxis": {
            "backgroundcolor": "rgb(17,17,17)",
            "gridcolor": "#506784",
            "linecolor": "#506784",
            "showbackground": true,
            "ticks": "",
            "zerolinecolor": "#C8D4E3",
            "gridwidth": 2
           }
          },
          "shapedefaults": {
           "line": {
            "color": "#f2f5fa"
           }
          },
          "annotationdefaults": {
           "arrowcolor": "#f2f5fa",
           "arrowhead": 0,
           "arrowwidth": 1
          },
          "geo": {
           "bgcolor": "rgb(17,17,17)",
           "landcolor": "rgb(17,17,17)",
           "subunitcolor": "#506784",
           "showland": true,
           "showlakes": true,
           "lakecolor": "rgb(17,17,17)"
          },
          "title": {
           "x": 0.05
          },
          "updatemenudefaults": {
           "bgcolor": "#506784",
           "borderwidth": 0
          },
          "sliderdefaults": {
           "bgcolor": "#C8D4E3",
           "borderwidth": 1,
           "bordercolor": "rgb(17,17,17)",
           "tickwidth": 0
          },
          "mapbox": {
           "style": "dark"
          }
         }
        }
       },
       "config": {
        "plotlyServerURL": "https://plot.ly"
       }
      },
      "text/html": [
       "<div>                            <div id=\"837f2acd-2d23-4b6f-b70f-5fa7654ea094\" class=\"plotly-graph-div\" style=\"height:700px; width:100%;\"></div>            <script type=\"text/javascript\">                require([\"plotly\"], function(Plotly) {                    window.PLOTLYENV=window.PLOTLYENV || {};                                    if (document.getElementById(\"837f2acd-2d23-4b6f-b70f-5fa7654ea094\")) {                    Plotly.newPlot(                        \"837f2acd-2d23-4b6f-b70f-5fa7654ea094\",                        [{\"marker\":{\"line\":{\"width\":0.5}},\"name\":\"Dan Brown\",\"text\":[\"(60.87%)\",\"(15.38%)\",\"(87.50%)\",\"(66.67%)\",\"(22.22%)\",\"(15.38%)\",\"(17.39%)\",\"(57.14%)\",\"(17.39%)\",\"(72.73%)\",\"(25.00%)\",\"(50.00%)\",\"(100.00%)\",\"(60.00%)\",\"(76.19%)\",\"(21.05%)\",\"(40.00%)\",\"(54.55%)\",\"(30.77%)\",\"(72.73%)\",\"(28.57%)\",\"(39.13%)\",\"(40.00%)\",\"(40.00%)\",\"(66.67%)\",\"(12.50%)\",\"(60.00%)\",\"(80.00%)\",\"(88.89%)\",\"(30.00%)\",\"(86.67%)\",\"(44.44%)\",\"(28.57%)\",\"(100.00%)\",\"(28.57%)\",\"(40.00%)\",\"(9.52%)\",\"(72.73%)\",\"(61.54%)\",\"(86.49%)\",\"(40.00%)\",\"(16.67%)\",\"(44.44%)\",\"(18.18%)\",\"(20.00%)\",\"(50.00%)\",\"(75.00%)\",\"(11.76%)\",\"(20.00%)\",\"(60.00%)\",\"(18.18%)\",\"(37.50%)\",\"(50.00%)\",\"(27.27%)\",\"(27.27%)\",\"(28.57%)\",\"(28.57%)\",\"(52.83%)\",\"(100.00%)\",\"(59.70%)\",\"(49.23%)\",\"(8.00%)\",\"(25.00%)\",\"(34.29%)\",\"(14.81%)\",\"(6.38%)\",\"(44.44%)\",\"(44.00%)\",\"(76.60%)\",\"(28.57%)\",\"(64.29%)\",\"(57.14%)\"],\"x\":[\"2006-03-01T00:00:00\",\"2006-03-03T00:00:00\",\"2006-03-04T00:00:00\",\"2006-03-07T00:00:00\",\"2006-03-08T00:00:00\",\"2006-03-09T00:00:00\",\"2006-03-10T00:00:00\",\"2006-03-11T00:00:00\",\"2006-03-12T00:00:00\",\"2006-03-14T00:00:00\",\"2006-03-16T00:00:00\",\"2006-03-17T00:00:00\",\"2006-03-18T00:00:00\",\"2006-03-19T00:00:00\",\"2006-03-20T00:00:00\",\"2006-03-21T00:00:00\",\"2006-03-23T00:00:00\",\"2006-03-24T00:00:00\",\"2006-03-25T00:00:00\",\"2006-03-26T00:00:00\",\"2006-03-28T00:00:00\",\"2006-03-30T00:00:00\",\"2006-04-02T00:00:00\",\"2006-04-03T00:00:00\",\"2006-04-04T00:00:00\",\"2006-04-05T00:00:00\",\"2006-04-06T00:00:00\",\"2006-04-07T00:00:00\",\"2006-04-08T00:00:00\",\"2006-04-09T00:00:00\",\"2006-04-10T00:00:00\",\"2006-04-11T00:00:00\",\"2006-04-12T00:00:00\",\"2006-04-15T00:00:00\",\"2006-04-16T00:00:00\",\"2006-04-17T00:00:00\",\"2006-04-18T00:00:00\",\"2006-04-20T00:00:00\",\"2006-04-22T00:00:00\",\"2006-04-23T00:00:00\",\"2006-04-25T00:00:00\",\"2006-04-27T00:00:00\",\"2006-04-29T00:00:00\",\"2006-04-30T00:00:00\",\"2006-05-01T00:00:00\",\"2006-05-02T00:00:00\",\"2006-05-03T00:00:00\",\"2006-05-04T00:00:00\",\"2006-05-06T00:00:00\",\"2006-05-07T00:00:00\",\"2006-05-09T00:00:00\",\"2006-05-10T00:00:00\",\"2006-05-11T00:00:00\",\"2006-05-12T00:00:00\",\"2006-05-13T00:00:00\",\"2006-05-14T00:00:00\",\"2006-05-15T00:00:00\",\"2006-05-16T00:00:00\",\"2006-05-17T00:00:00\",\"2006-05-18T00:00:00\",\"2006-05-19T00:00:00\",\"2006-05-20T00:00:00\",\"2006-05-21T00:00:00\",\"2006-05-22T00:00:00\",\"2006-05-23T00:00:00\",\"2006-05-24T00:00:00\",\"2006-05-25T00:00:00\",\"2006-05-26T00:00:00\",\"2006-05-27T00:00:00\",\"2006-05-29T00:00:00\",\"2006-05-30T00:00:00\",\"2006-05-31T00:00:00\"],\"y\":[14,2,14,16,2,2,4,4,4,8,2,4,6,6,16,4,8,6,4,16,6,18,2,6,2,2,6,8,8,6,26,4,2,4,2,8,2,8,8,32,2,2,4,4,4,8,12,2,2,6,2,6,10,6,6,4,2,28,4,40,32,8,10,12,4,6,4,22,36,4,18,8],\"type\":\"bar\"},{\"marker\":{\"line\":{\"width\":0.5}},\"name\":\"Jean Reno\",\"text\":[\"(4.35%)\",\"(7.69%)\",\"(9.09%)\",\"(4.76%)\",\"(20.00%)\",\"(71.43%)\",\"(41.18%)\",\"(2.50%)\",\"(2.00%)\"],\"x\":[\"2006-03-01T00:00:00\",\"2006-03-09T00:00:00\",\"2006-03-24T00:00:00\",\"2006-03-28T00:00:00\",\"2006-04-06T00:00:00\",\"2006-04-18T00:00:00\",\"2006-05-04T00:00:00\",\"2006-05-21T00:00:00\",\"2006-05-26T00:00:00\"],\"y\":[1,1,1,1,2,15,7,1,1],\"type\":\"bar\"},{\"marker\":{\"line\":{\"width\":0.5}},\"name\":\"Ron Howard\",\"text\":[\"(26.09%)\",\"(9.09%)\",\"(11.11%)\",\"(23.08%)\",\"(43.48%)\",\"(14.29%)\",\"(25.00%)\",\"(12.50%)\",\"(10.00%)\",\"(38.46%)\",\"(37.50%)\",\"(13.33%)\",\"(33.33%)\",\"(100.00%)\",\"(30.00%)\",\"(5.41%)\",\"(25.00%)\",\"(9.09%)\",\"(18.75%)\",\"(10.00%)\",\"(10.00%)\",\"(20.00%)\",\"(9.09%)\",\"(6.25%)\",\"(10.00%)\",\"(13.64%)\",\"(57.14%)\",\"(41.51%)\",\"(2.99%)\",\"(21.54%)\",\"(17.00%)\",\"(30.00%)\",\"(22.86%)\",\"(2.13%)\",\"(22.22%)\",\"(4.00%)\",\"(12.77%)\",\"(11.54%)\",\"(50.00%)\",\"(7.14%)\"],\"x\":[\"2006-03-01T00:00:00\",\"2006-03-02T00:00:00\",\"2006-03-08T00:00:00\",\"2006-03-09T00:00:00\",\"2006-03-10T00:00:00\",\"2006-03-13T00:00:00\",\"2006-03-15T00:00:00\",\"2006-03-17T00:00:00\",\"2006-03-19T00:00:00\",\"2006-03-25T00:00:00\",\"2006-03-27T00:00:00\",\"2006-04-03T00:00:00\",\"2006-04-04T00:00:00\",\"2006-04-13T00:00:00\",\"2006-04-17T00:00:00\",\"2006-04-23T00:00:00\",\"2006-04-27T00:00:00\",\"2006-04-30T00:00:00\",\"2006-05-02T00:00:00\",\"2006-05-06T00:00:00\",\"2006-05-07T00:00:00\",\"2006-05-08T00:00:00\",\"2006-05-09T00:00:00\",\"2006-05-10T00:00:00\",\"2006-05-11T00:00:00\",\"2006-05-13T00:00:00\",\"2006-05-15T00:00:00\",\"2006-05-16T00:00:00\",\"2006-05-18T00:00:00\",\"2006-05-19T00:00:00\",\"2006-05-20T00:00:00\",\"2006-05-21T00:00:00\",\"2006-05-22T00:00:00\",\"2006-05-24T00:00:00\",\"2006-05-25T00:00:00\",\"2006-05-26T00:00:00\",\"2006-05-27T00:00:00\",\"2006-05-28T00:00:00\",\"2006-05-29T00:00:00\",\"2006-05-31T00:00:00\"],\"y\":[6,1,1,3,10,1,1,1,1,5,3,2,1,1,6,2,3,2,3,1,1,1,1,1,2,3,4,22,2,14,17,12,8,2,2,2,6,3,7,1],\"type\":\"bar\"},{\"marker\":{\"line\":{\"width\":0.5}},\"name\":\"Tom Hanks\",\"text\":[\"(8.70%)\",\"(38.46%)\",\"(12.50%)\",\"(100.00%)\",\"(33.33%)\",\"(12.50%)\",\"(11.11%)\",\"(53.85%)\",\"(34.78%)\",\"(42.86%)\",\"(26.09%)\",\"(42.86%)\",\"(9.09%)\",\"(50.00%)\",\"(37.50%)\",\"(37.50%)\",\"(20.00%)\",\"(19.05%)\",\"(5.26%)\",\"(10.00%)\",\"(7.69%)\",\"(27.27%)\",\"(12.50%)\",\"(4.76%)\",\"(12.50%)\",\"(2.17%)\",\"(33.33%)\",\"(50.00%)\",\"(20.00%)\",\"(46.67%)\",\"(75.00%)\",\"(10.00%)\",\"(11.11%)\",\"(10.00%)\",\"(22.22%)\",\"(14.29%)\",\"(14.29%)\",\"(19.05%)\",\"(100.00%)\",\"(18.18%)\",\"(8.70%)\",\"(23.08%)\",\"(8.11%)\",\"(20.00%)\",\"(100.00%)\",\"(44.44%)\",\"(4.55%)\",\"(45.00%)\",\"(25.00%)\",\"(6.25%)\",\"(17.65%)\",\"(20.00%)\",\"(70.00%)\",\"(20.00%)\",\"(60.00%)\",\"(36.36%)\",\"(12.50%)\",\"(10.00%)\",\"(18.18%)\",\"(59.09%)\",\"(71.43%)\",\"(14.29%)\",\"(5.66%)\",\"(10.45%)\",\"(9.23%)\",\"(25.00%)\",\"(17.50%)\",\"(11.43%)\",\"(7.41%)\",\"(1.06%)\",\"(10.00%)\",\"(10.64%)\",\"(7.69%)\",\"(7.14%)\",\"(28.57%)\",\"(14.29%)\"],\"x\":[\"2006-03-01T00:00:00\",\"2006-03-03T00:00:00\",\"2006-03-04T00:00:00\",\"2006-03-05T00:00:00\",\"2006-03-06T00:00:00\",\"2006-03-07T00:00:00\",\"2006-03-08T00:00:00\",\"2006-03-09T00:00:00\",\"2006-03-10T00:00:00\",\"2006-03-11T00:00:00\",\"2006-03-12T00:00:00\",\"2006-03-13T00:00:00\",\"2006-03-14T00:00:00\",\"2006-03-15T00:00:00\",\"2006-03-16T00:00:00\",\"2006-03-17T00:00:00\",\"2006-03-19T00:00:00\",\"2006-03-20T00:00:00\",\"2006-03-21T00:00:00\",\"2006-03-23T00:00:00\",\"2006-03-25T00:00:00\",\"2006-03-26T00:00:00\",\"2006-03-27T00:00:00\",\"2006-03-28T00:00:00\",\"2006-03-29T00:00:00\",\"2006-03-30T00:00:00\",\"2006-03-31T00:00:00\",\"2006-04-01T00:00:00\",\"2006-04-02T00:00:00\",\"2006-04-03T00:00:00\",\"2006-04-05T00:00:00\",\"2006-04-07T00:00:00\",\"2006-04-08T00:00:00\",\"2006-04-09T00:00:00\",\"2006-04-11T00:00:00\",\"2006-04-12T00:00:00\",\"2006-04-16T00:00:00\",\"2006-04-18T00:00:00\",\"2006-04-19T00:00:00\",\"2006-04-20T00:00:00\",\"2006-04-21T00:00:00\",\"2006-04-22T00:00:00\",\"2006-04-23T00:00:00\",\"2006-04-25T00:00:00\",\"2006-04-26T00:00:00\",\"2006-04-29T00:00:00\",\"2006-04-30T00:00:00\",\"2006-05-01T00:00:00\",\"2006-05-02T00:00:00\",\"2006-05-03T00:00:00\",\"2006-05-04T00:00:00\",\"2006-05-05T00:00:00\",\"2006-05-06T00:00:00\",\"2006-05-07T00:00:00\",\"2006-05-08T00:00:00\",\"2006-05-09T00:00:00\",\"2006-05-10T00:00:00\",\"2006-05-11T00:00:00\",\"2006-05-12T00:00:00\",\"2006-05-13T00:00:00\",\"2006-05-14T00:00:00\",\"2006-05-15T00:00:00\",\"2006-05-16T00:00:00\",\"2006-05-18T00:00:00\",\"2006-05-19T00:00:00\",\"2006-05-20T00:00:00\",\"2006-05-21T00:00:00\",\"2006-05-22T00:00:00\",\"2006-05-23T00:00:00\",\"2006-05-24T00:00:00\",\"2006-05-26T00:00:00\",\"2006-05-27T00:00:00\",\"2006-05-28T00:00:00\",\"2006-05-29T00:00:00\",\"2006-05-30T00:00:00\",\"2006-05-31T00:00:00\"],\"y\":[2,5,2,4,8,3,1,7,8,3,6,3,1,2,3,3,2,4,1,2,1,6,1,1,1,1,2,2,1,7,12,1,1,2,2,1,1,4,4,2,2,3,3,1,4,4,1,9,4,1,3,2,7,2,3,4,2,2,4,13,10,1,3,7,6,25,7,4,2,1,5,5,2,1,8,2],\"type\":\"bar\"},{\"marker\":{\"line\":{\"width\":0.5}},\"name\":\"Charlie Rose\",\"text\":[\"(9.09%)\",\"(8.33%)\",\"(4.17%)\",\"(11.11%)\",\"(4.35%)\",\"(13.04%)\",\"(18.18%)\",\"(25.00%)\",\"(37.50%)\",\"(77.78%)\",\"(15.00%)\",\"(27.27%)\",\"(12.50%)\",\"(23.81%)\",\"(58.70%)\",\"(50.00%)\",\"(40.00%)\",\"(6.25%)\",\"(20.00%)\",\"(10.00%)\",\"(33.33%)\",\"(14.29%)\",\"(9.09%)\",\"(43.48%)\",\"(7.69%)\",\"(50.00%)\",\"(41.67%)\",\"(7.14%)\",\"(9.09%)\",\"(30.00%)\",\"(6.25%)\",\"(6.25%)\",\"(23.53%)\",\"(60.00%)\",\"(20.00%)\",\"(9.09%)\",\"(31.25%)\",\"(15.00%)\",\"(31.82%)\",\"(5.97%)\",\"(11.11%)\",\"(4.00%)\",\"(7.14%)\",\"(14.29%)\"],\"x\":[\"2006-03-02T00:00:00\",\"2006-03-06T00:00:00\",\"2006-03-07T00:00:00\",\"2006-03-08T00:00:00\",\"2006-03-10T00:00:00\",\"2006-03-12T00:00:00\",\"2006-03-14T00:00:00\",\"2006-03-15T00:00:00\",\"2006-03-16T00:00:00\",\"2006-03-22T00:00:00\",\"2006-03-23T00:00:00\",\"2006-03-24T00:00:00\",\"2006-03-27T00:00:00\",\"2006-03-28T00:00:00\",\"2006-03-30T00:00:00\",\"2006-04-01T00:00:00\",\"2006-04-02T00:00:00\",\"2006-04-05T00:00:00\",\"2006-04-06T00:00:00\",\"2006-04-07T00:00:00\",\"2006-04-11T00:00:00\",\"2006-04-12T00:00:00\",\"2006-04-20T00:00:00\",\"2006-04-21T00:00:00\",\"2006-04-22T00:00:00\",\"2006-04-24T00:00:00\",\"2006-04-27T00:00:00\",\"2006-04-28T00:00:00\",\"2006-04-30T00:00:00\",\"2006-05-01T00:00:00\",\"2006-05-02T00:00:00\",\"2006-05-03T00:00:00\",\"2006-05-04T00:00:00\",\"2006-05-05T00:00:00\",\"2006-05-08T00:00:00\",\"2006-05-09T00:00:00\",\"2006-05-10T00:00:00\",\"2006-05-11T00:00:00\",\"2006-05-12T00:00:00\",\"2006-05-18T00:00:00\",\"2006-05-25T00:00:00\",\"2006-05-26T00:00:00\",\"2006-05-30T00:00:00\",\"2006-05-31T00:00:00\"],\"y\":[1,2,1,1,1,3,2,1,3,7,3,3,1,5,27,2,2,1,2,1,3,1,1,10,1,1,5,2,2,6,1,1,4,6,1,1,5,3,7,4,1,2,2,2],\"type\":\"bar\"},{\"marker\":{\"line\":{\"width\":0.5}},\"name\":\"Drew P.\",\"text\":[\"(63.64%)\",\"(9.09%)\",\"(3.33%)\",\"(25.00%)\"],\"x\":[\"2006-03-02T00:00:00\",\"2006-03-24T00:00:00\",\"2006-04-10T00:00:00\",\"2006-04-17T00:00:00\"],\"y\":[7,1,1,5],\"type\":\"bar\"},{\"marker\":{\"line\":{\"width\":0.5}},\"name\":\"Hans Zimmer\",\"text\":[\"(9.09%)\",\"(10.00%)\",\"(22.22%)\",\"(10.00%)\",\"(25.00%)\",\"(37.50%)\",\"(5.00%)\",\"(14.29%)\",\"(16.67%)\"],\"x\":[\"2006-03-02T00:00:00\",\"2006-03-19T00:00:00\",\"2006-03-22T00:00:00\",\"2006-03-23T00:00:00\",\"2006-03-27T00:00:00\",\"2006-03-29T00:00:00\",\"2006-04-09T00:00:00\",\"2006-04-16T00:00:00\",\"2006-04-27T00:00:00\"],\"y\":[1,1,2,2,2,3,1,1,2],\"type\":\"bar\"},{\"marker\":{\"line\":{\"width\":0.5}},\"name\":\"Ian McKellen\",\"text\":[\"(9.09%)\",\"(16.67%)\",\"(55.00%)\",\"(10.00%)\",\"(42.86%)\",\"(5.00%)\",\"(11.11%)\",\"(6.25%)\",\"(5.97%)\",\"(4.62%)\",\"(2.13%)\",\"(6.00%)\",\"(11.54%)\"],\"x\":[\"2006-03-02T00:00:00\",\"2006-03-07T00:00:00\",\"2006-04-09T00:00:00\",\"2006-04-10T00:00:00\",\"2006-04-16T00:00:00\",\"2006-04-17T00:00:00\",\"2006-04-29T00:00:00\",\"2006-05-03T00:00:00\",\"2006-05-18T00:00:00\",\"2006-05-19T00:00:00\",\"2006-05-24T00:00:00\",\"2006-05-26T00:00:00\",\"2006-05-28T00:00:00\"],\"y\":[1,4,11,3,3,1,1,1,4,3,2,3,3],\"type\":\"bar\"},{\"marker\":{\"line\":{\"width\":0.5}},\"name\":\"Chris Wilson\",\"text\":[\"(46.15%)\",\"(4.35%)\",\"(4.76%)\",\"(63.16%)\",\"(5.88%)\",\"(3.85%)\"],\"x\":[\"2006-03-03T00:00:00\",\"2006-03-12T00:00:00\",\"2006-03-20T00:00:00\",\"2006-03-21T00:00:00\",\"2006-05-04T00:00:00\",\"2006-05-28T00:00:00\"],\"y\":[6,1,1,12,1,1],\"type\":\"bar\"},{\"marker\":{\"line\":{\"width\":0.5}},\"name\":\"Audrey Tautou\",\"text\":[\"(58.33%)\",\"(21.74%)\",\"(50.00%)\",\"(20.00%)\",\"(59.09%)\",\"(6.25%)\",\"(10.00%)\",\"(18.18%)\",\"(12.50%)\",\"(10.00%)\",\"(22.73%)\",\"(14.93%)\",\"(15.38%)\",\"(47.00%)\",\"(20.00%)\",\"(22.86%)\",\"(74.07%)\",\"(85.11%)\",\"(22.22%)\",\"(26.00%)\",\"(14.29%)\"],\"x\":[\"2006-03-06T00:00:00\",\"2006-03-12T00:00:00\",\"2006-04-24T00:00:00\",\"2006-04-25T00:00:00\",\"2006-04-30T00:00:00\",\"2006-05-03T00:00:00\",\"2006-05-07T00:00:00\",\"2006-05-09T00:00:00\",\"2006-05-10T00:00:00\",\"2006-05-11T00:00:00\",\"2006-05-12T00:00:00\",\"2006-05-18T00:00:00\",\"2006-05-19T00:00:00\",\"2006-05-20T00:00:00\",\"2006-05-21T00:00:00\",\"2006-05-22T00:00:00\",\"2006-05-23T00:00:00\",\"2006-05-24T00:00:00\",\"2006-05-25T00:00:00\",\"2006-05-26T00:00:00\",\"2006-05-29T00:00:00\"],\"y\":[14,5,1,1,13,1,1,2,2,2,5,10,10,47,8,8,20,80,2,13,2],\"type\":\"bar\"},{\"marker\":{\"line\":{\"width\":0.5}},\"name\":\"Robert Stone\",\"text\":[\"(44.44%)\",\"(17.39%)\",\"(5.00%)\"],\"x\":[\"2006-03-08T00:00:00\",\"2006-03-12T00:00:00\",\"2006-05-01T00:00:00\"],\"y\":[4,4,1],\"type\":\"bar\"},{\"marker\":{\"line\":{\"width\":0.5}},\"name\":\"Paul Bettany\",\"text\":[\"(42.86%)\",\"(23.08%)\",\"(6.25%)\",\"(7.69%)\",\"(92.86%)\",\"(3.00%)\",\"(5.00%)\",\"(5.71%)\",\"(3.70%)\",\"(2.13%)\",\"(65.38%)\",\"(7.14%)\"],\"x\":[\"2006-03-13T00:00:00\",\"2006-03-25T00:00:00\",\"2006-04-05T00:00:00\",\"2006-04-22T00:00:00\",\"2006-04-28T00:00:00\",\"2006-05-20T00:00:00\",\"2006-05-21T00:00:00\",\"2006-05-22T00:00:00\",\"2006-05-23T00:00:00\",\"2006-05-24T00:00:00\",\"2006-05-28T00:00:00\",\"2006-05-31T00:00:00\"],\"y\":[3,3,1,1,26,3,2,2,1,2,17,1],\"type\":\"bar\"},{\"marker\":{\"line\":{\"width\":0.5}},\"name\":\"Alfred Molina\",\"text\":[\"(10.53%)\",\"(20.00%)\",\"(2.86%)\",\"(2.00%)\"],\"x\":[\"2006-03-21T00:00:00\",\"2006-05-05T00:00:00\",\"2006-05-22T00:00:00\",\"2006-05-26T00:00:00\"],\"y\":[2,2,1,1],\"type\":\"bar\"},{\"marker\":{\"line\":{\"width\":0.5}},\"name\":\"Andy Robb\",\"text\":[\"(25.00%)\",\"(50.00%)\",\"(42.86%)\",\"(9.09%)\",\"(5.00%)\"],\"x\":[\"2006-03-23T00:00:00\",\"2006-03-29T00:00:00\",\"2006-04-12T00:00:00\",\"2006-05-09T00:00:00\",\"2006-05-11T00:00:00\"],\"y\":[5,4,3,1,1],\"type\":\"bar\"},{\"marker\":{\"line\":{\"width\":0.5}},\"name\":\"Cheryl Howard\",\"text\":[\"(12.50%)\",\"(33.33%)\"],\"x\":[\"2006-03-27T00:00:00\",\"2006-03-31T00:00:00\"],\"y\":[1,2],\"type\":\"bar\"},{\"marker\":{\"line\":{\"width\":0.5}},\"name\":\"Brian Grazer\",\"text\":[\"(4.76%)\"],\"x\":[\"2006-03-28T00:00:00\"],\"y\":[1],\"type\":\"bar\"},{\"marker\":{\"line\":{\"width\":0.5}},\"name\":\"Paul Adams\",\"text\":[\"(9.52%)\"],\"x\":[\"2006-03-28T00:00:00\"],\"y\":[2],\"type\":\"bar\"},{\"marker\":{\"line\":{\"width\":0.5}},\"name\":\"Paul Hann\",\"text\":[\"(23.81%)\",\"(33.33%)\"],\"x\":[\"2006-03-28T00:00:00\",\"2006-03-31T00:00:00\"],\"y\":[5,2],\"type\":\"bar\"},{\"marker\":{\"line\":{\"width\":0.5}},\"name\":\"Tom Barker\",\"text\":[\"(47.83%)\"],\"x\":[\"2006-04-21T00:00:00\"],\"y\":[11],\"type\":\"bar\"},{\"marker\":{\"line\":{\"width\":0.5}},\"name\":\"Andy Skinner\",\"text\":[\"(20.00%)\",\"(2.00%)\"],\"x\":[\"2006-04-25T00:00:00\",\"2006-05-26T00:00:00\"],\"y\":[1,1],\"type\":\"bar\"},{\"marker\":{\"line\":{\"width\":0.5}},\"name\":\"Akiva Goldsman\",\"text\":[\"(1.06%)\"],\"x\":[\"2006-05-24T00:00:00\"],\"y\":[1],\"type\":\"bar\"},{\"hoverinfo\":\"skip\",\"line\":{\"color\":\"red\",\"dash\":\"dash\",\"width\":4},\"mode\":\"lines\",\"name\":\"The Da Vinci Code Release\",\"x\":[\"2006-05-19\",\"2006-05-19\"],\"y\":[0,80],\"type\":\"scatter\"}],                        {\"barmode\":\"stack\",\"height\":700,\"hovermode\":\"x unified\",\"title\":{\"text\":\"Total Queries per Day by Actor\"},\"xaxis\":{\"title\":{\"text\":\"Date\"}},\"yaxis\":{\"title\":{\"text\":\"Total Queries\"}},\"template\":{\"data\":{\"histogram2dcontour\":[{\"type\":\"histogram2dcontour\",\"colorbar\":{\"outlinewidth\":0,\"ticks\":\"\"},\"colorscale\":[[0.0,\"#0d0887\"],[0.1111111111111111,\"#46039f\"],[0.2222222222222222,\"#7201a8\"],[0.3333333333333333,\"#9c179e\"],[0.4444444444444444,\"#bd3786\"],[0.5555555555555556,\"#d8576b\"],[0.6666666666666666,\"#ed7953\"],[0.7777777777777778,\"#fb9f3a\"],[0.8888888888888888,\"#fdca26\"],[1.0,\"#f0f921\"]]}],\"choropleth\":[{\"type\":\"choropleth\",\"colorbar\":{\"outlinewidth\":0,\"ticks\":\"\"}}],\"histogram2d\":[{\"type\":\"histogram2d\",\"colorbar\":{\"outlinewidth\":0,\"ticks\":\"\"},\"colorscale\":[[0.0,\"#0d0887\"],[0.1111111111111111,\"#46039f\"],[0.2222222222222222,\"#7201a8\"],[0.3333333333333333,\"#9c179e\"],[0.4444444444444444,\"#bd3786\"],[0.5555555555555556,\"#d8576b\"],[0.6666666666666666,\"#ed7953\"],[0.7777777777777778,\"#fb9f3a\"],[0.8888888888888888,\"#fdca26\"],[1.0,\"#f0f921\"]]}],\"heatmap\":[{\"type\":\"heatmap\",\"colorbar\":{\"outlinewidth\":0,\"ticks\":\"\"},\"colorscale\":[[0.0,\"#0d0887\"],[0.1111111111111111,\"#46039f\"],[0.2222222222222222,\"#7201a8\"],[0.3333333333333333,\"#9c179e\"],[0.4444444444444444,\"#bd3786\"],[0.5555555555555556,\"#d8576b\"],[0.6666666666666666,\"#ed7953\"],[0.7777777777777778,\"#fb9f3a\"],[0.8888888888888888,\"#fdca26\"],[1.0,\"#f0f921\"]]}],\"heatmapgl\":[{\"type\":\"heatmapgl\",\"colorbar\":{\"outlinewidth\":0,\"ticks\":\"\"},\"colorscale\":[[0.0,\"#0d0887\"],[0.1111111111111111,\"#46039f\"],[0.2222222222222222,\"#7201a8\"],[0.3333333333333333,\"#9c179e\"],[0.4444444444444444,\"#bd3786\"],[0.5555555555555556,\"#d8576b\"],[0.6666666666666666,\"#ed7953\"],[0.7777777777777778,\"#fb9f3a\"],[0.8888888888888888,\"#fdca26\"],[1.0,\"#f0f921\"]]}],\"contourcarpet\":[{\"type\":\"contourcarpet\",\"colorbar\":{\"outlinewidth\":0,\"ticks\":\"\"}}],\"contour\":[{\"type\":\"contour\",\"colorbar\":{\"outlinewidth\":0,\"ticks\":\"\"},\"colorscale\":[[0.0,\"#0d0887\"],[0.1111111111111111,\"#46039f\"],[0.2222222222222222,\"#7201a8\"],[0.3333333333333333,\"#9c179e\"],[0.4444444444444444,\"#bd3786\"],[0.5555555555555556,\"#d8576b\"],[0.6666666666666666,\"#ed7953\"],[0.7777777777777778,\"#fb9f3a\"],[0.8888888888888888,\"#fdca26\"],[1.0,\"#f0f921\"]]}],\"surface\":[{\"type\":\"surface\",\"colorbar\":{\"outlinewidth\":0,\"ticks\":\"\"},\"colorscale\":[[0.0,\"#0d0887\"],[0.1111111111111111,\"#46039f\"],[0.2222222222222222,\"#7201a8\"],[0.3333333333333333,\"#9c179e\"],[0.4444444444444444,\"#bd3786\"],[0.5555555555555556,\"#d8576b\"],[0.6666666666666666,\"#ed7953\"],[0.7777777777777778,\"#fb9f3a\"],[0.8888888888888888,\"#fdca26\"],[1.0,\"#f0f921\"]]}],\"mesh3d\":[{\"type\":\"mesh3d\",\"colorbar\":{\"outlinewidth\":0,\"ticks\":\"\"}}],\"scatter\":[{\"marker\":{\"line\":{\"color\":\"#283442\"}},\"type\":\"scatter\"}],\"parcoords\":[{\"type\":\"parcoords\",\"line\":{\"colorbar\":{\"outlinewidth\":0,\"ticks\":\"\"}}}],\"scatterpolargl\":[{\"type\":\"scatterpolargl\",\"marker\":{\"colorbar\":{\"outlinewidth\":0,\"ticks\":\"\"}}}],\"bar\":[{\"error_x\":{\"color\":\"#f2f5fa\"},\"error_y\":{\"color\":\"#f2f5fa\"},\"marker\":{\"line\":{\"color\":\"rgb(17,17,17)\",\"width\":0.5},\"pattern\":{\"fillmode\":\"overlay\",\"size\":10,\"solidity\":0.2}},\"type\":\"bar\"}],\"scattergeo\":[{\"type\":\"scattergeo\",\"marker\":{\"colorbar\":{\"outlinewidth\":0,\"ticks\":\"\"}}}],\"scatterpolar\":[{\"type\":\"scatterpolar\",\"marker\":{\"colorbar\":{\"outlinewidth\":0,\"ticks\":\"\"}}}],\"histogram\":[{\"marker\":{\"pattern\":{\"fillmode\":\"overlay\",\"size\":10,\"solidity\":0.2}},\"type\":\"histogram\"}],\"scattergl\":[{\"marker\":{\"line\":{\"color\":\"#283442\"}},\"type\":\"scattergl\"}],\"scatter3d\":[{\"type\":\"scatter3d\",\"line\":{\"colorbar\":{\"outlinewidth\":0,\"ticks\":\"\"}},\"marker\":{\"colorbar\":{\"outlinewidth\":0,\"ticks\":\"\"}}}],\"scattermapbox\":[{\"type\":\"scattermapbox\",\"marker\":{\"colorbar\":{\"outlinewidth\":0,\"ticks\":\"\"}}}],\"scatterternary\":[{\"type\":\"scatterternary\",\"marker\":{\"colorbar\":{\"outlinewidth\":0,\"ticks\":\"\"}}}],\"scattercarpet\":[{\"type\":\"scattercarpet\",\"marker\":{\"colorbar\":{\"outlinewidth\":0,\"ticks\":\"\"}}}],\"carpet\":[{\"aaxis\":{\"endlinecolor\":\"#A2B1C6\",\"gridcolor\":\"#506784\",\"linecolor\":\"#506784\",\"minorgridcolor\":\"#506784\",\"startlinecolor\":\"#A2B1C6\"},\"baxis\":{\"endlinecolor\":\"#A2B1C6\",\"gridcolor\":\"#506784\",\"linecolor\":\"#506784\",\"minorgridcolor\":\"#506784\",\"startlinecolor\":\"#A2B1C6\"},\"type\":\"carpet\"}],\"table\":[{\"cells\":{\"fill\":{\"color\":\"#506784\"},\"line\":{\"color\":\"rgb(17,17,17)\"}},\"header\":{\"fill\":{\"color\":\"#2a3f5f\"},\"line\":{\"color\":\"rgb(17,17,17)\"}},\"type\":\"table\"}],\"barpolar\":[{\"marker\":{\"line\":{\"color\":\"rgb(17,17,17)\",\"width\":0.5},\"pattern\":{\"fillmode\":\"overlay\",\"size\":10,\"solidity\":0.2}},\"type\":\"barpolar\"}],\"pie\":[{\"automargin\":true,\"type\":\"pie\"}]},\"layout\":{\"autotypenumbers\":\"strict\",\"colorway\":[\"#636efa\",\"#EF553B\",\"#00cc96\",\"#ab63fa\",\"#FFA15A\",\"#19d3f3\",\"#FF6692\",\"#B6E880\",\"#FF97FF\",\"#FECB52\"],\"font\":{\"color\":\"#f2f5fa\"},\"hovermode\":\"closest\",\"hoverlabel\":{\"align\":\"left\"},\"paper_bgcolor\":\"rgb(17,17,17)\",\"plot_bgcolor\":\"rgb(17,17,17)\",\"polar\":{\"bgcolor\":\"rgb(17,17,17)\",\"angularaxis\":{\"gridcolor\":\"#506784\",\"linecolor\":\"#506784\",\"ticks\":\"\"},\"radialaxis\":{\"gridcolor\":\"#506784\",\"linecolor\":\"#506784\",\"ticks\":\"\"}},\"ternary\":{\"bgcolor\":\"rgb(17,17,17)\",\"aaxis\":{\"gridcolor\":\"#506784\",\"linecolor\":\"#506784\",\"ticks\":\"\"},\"baxis\":{\"gridcolor\":\"#506784\",\"linecolor\":\"#506784\",\"ticks\":\"\"},\"caxis\":{\"gridcolor\":\"#506784\",\"linecolor\":\"#506784\",\"ticks\":\"\"}},\"coloraxis\":{\"colorbar\":{\"outlinewidth\":0,\"ticks\":\"\"}},\"colorscale\":{\"sequential\":[[0.0,\"#0d0887\"],[0.1111111111111111,\"#46039f\"],[0.2222222222222222,\"#7201a8\"],[0.3333333333333333,\"#9c179e\"],[0.4444444444444444,\"#bd3786\"],[0.5555555555555556,\"#d8576b\"],[0.6666666666666666,\"#ed7953\"],[0.7777777777777778,\"#fb9f3a\"],[0.8888888888888888,\"#fdca26\"],[1.0,\"#f0f921\"]],\"sequentialminus\":[[0.0,\"#0d0887\"],[0.1111111111111111,\"#46039f\"],[0.2222222222222222,\"#7201a8\"],[0.3333333333333333,\"#9c179e\"],[0.4444444444444444,\"#bd3786\"],[0.5555555555555556,\"#d8576b\"],[0.6666666666666666,\"#ed7953\"],[0.7777777777777778,\"#fb9f3a\"],[0.8888888888888888,\"#fdca26\"],[1.0,\"#f0f921\"]],\"diverging\":[[0,\"#8e0152\"],[0.1,\"#c51b7d\"],[0.2,\"#de77ae\"],[0.3,\"#f1b6da\"],[0.4,\"#fde0ef\"],[0.5,\"#f7f7f7\"],[0.6,\"#e6f5d0\"],[0.7,\"#b8e186\"],[0.8,\"#7fbc41\"],[0.9,\"#4d9221\"],[1,\"#276419\"]]},\"xaxis\":{\"gridcolor\":\"#283442\",\"linecolor\":\"#506784\",\"ticks\":\"\",\"title\":{\"standoff\":15},\"zerolinecolor\":\"#283442\",\"automargin\":true,\"zerolinewidth\":2},\"yaxis\":{\"gridcolor\":\"#283442\",\"linecolor\":\"#506784\",\"ticks\":\"\",\"title\":{\"standoff\":15},\"zerolinecolor\":\"#283442\",\"automargin\":true,\"zerolinewidth\":2},\"scene\":{\"xaxis\":{\"backgroundcolor\":\"rgb(17,17,17)\",\"gridcolor\":\"#506784\",\"linecolor\":\"#506784\",\"showbackground\":true,\"ticks\":\"\",\"zerolinecolor\":\"#C8D4E3\",\"gridwidth\":2},\"yaxis\":{\"backgroundcolor\":\"rgb(17,17,17)\",\"gridcolor\":\"#506784\",\"linecolor\":\"#506784\",\"showbackground\":true,\"ticks\":\"\",\"zerolinecolor\":\"#C8D4E3\",\"gridwidth\":2},\"zaxis\":{\"backgroundcolor\":\"rgb(17,17,17)\",\"gridcolor\":\"#506784\",\"linecolor\":\"#506784\",\"showbackground\":true,\"ticks\":\"\",\"zerolinecolor\":\"#C8D4E3\",\"gridwidth\":2}},\"shapedefaults\":{\"line\":{\"color\":\"#f2f5fa\"}},\"annotationdefaults\":{\"arrowcolor\":\"#f2f5fa\",\"arrowhead\":0,\"arrowwidth\":1},\"geo\":{\"bgcolor\":\"rgb(17,17,17)\",\"landcolor\":\"rgb(17,17,17)\",\"subunitcolor\":\"#506784\",\"showland\":true,\"showlakes\":true,\"lakecolor\":\"rgb(17,17,17)\"},\"title\":{\"x\":0.05},\"updatemenudefaults\":{\"bgcolor\":\"#506784\",\"borderwidth\":0},\"sliderdefaults\":{\"bgcolor\":\"#C8D4E3\",\"borderwidth\":1,\"bordercolor\":\"rgb(17,17,17)\",\"tickwidth\":0},\"mapbox\":{\"style\":\"dark\"}}}},                        {\"responsive\": true}                    ).then(function(){\n",
       "                            \n",
       "var gd = document.getElementById('837f2acd-2d23-4b6f-b70f-5fa7654ea094');\n",
       "var x = new MutationObserver(function (mutations, observer) {{\n",
       "        var display = window.getComputedStyle(gd).display;\n",
       "        if (!display || display === 'none') {{\n",
       "            console.log([gd, 'removed!']);\n",
       "            Plotly.purge(gd);\n",
       "            observer.disconnect();\n",
       "        }}\n",
       "}});\n",
       "\n",
       "// Listen for the removal of the full notebook cells\n",
       "var notebookContainer = gd.closest('#notebook-container');\n",
       "if (notebookContainer) {{\n",
       "    x.observe(notebookContainer, {childList: true});\n",
       "}}\n",
       "\n",
       "// Listen for the clearing of the current output cell\n",
       "var outputEl = gd.closest('.output');\n",
       "if (outputEl) {{\n",
       "    x.observe(outputEl, {childList: true});\n",
       "}}\n",
       "\n",
       "                        })                };                });            </script>        </div>"
      ]
     },
     "metadata": {},
     "output_type": "display_data"
    }
   ],
   "execution_count": 139
  },
  {
   "metadata": {},
   "cell_type": "markdown",
   "source": "## Darstelleung von Durchschnittlichen Anfragen pro Woche erstellen ",
   "id": "95fc719922fe7265"
  },
  {
   "metadata": {},
   "cell_type": "markdown",
   "source": "### Vorbereiten von Daten ",
   "id": "c3c5610ac53e8336"
  },
  {
   "metadata": {
    "ExecuteTime": {
     "end_time": "2024-07-01T17:37:19.494122Z",
     "start_time": "2024-07-01T17:37:19.480588Z"
    }
   },
   "cell_type": "code",
   "source": [
    "df['week'] = df['date'].dt.to_period('W').apply(lambda r: r.start_time)\n",
    "weekly_avg = df.groupby('week')['queries'].mean().reset_index()\n",
    "\n",
    "# Erstellen eines zweiten Diagramms \n",
    "fig2 = go.Figure()\n"
   ],
   "id": "4e7459dcb7ad0b81",
   "outputs": [],
   "execution_count": 140
  },
  {
   "metadata": {},
   "cell_type": "markdown",
   "source": "### Die Grafik für Durchschnittliche Anfragen pro Woche einstellen und zeichnen ",
   "id": "aac6e64ee1386b47"
  },
  {
   "metadata": {
    "ExecuteTime": {
     "end_time": "2024-07-01T17:37:21.574032Z",
     "start_time": "2024-07-01T17:37:21.563306Z"
    }
   },
   "cell_type": "code",
   "source": [
    "fig2.add_trace(go.Scatter(\n",
    "    x=weekly_avg['week'],\n",
    "    y=weekly_avg['queries'],\n",
    "    mode='lines+markers',\n",
    "    name='Average Weekly Queries',\n",
    "    line=dict(color='blue', width=2)\n",
    "))\n",
    "\n",
    "# Einstellungen für das zweite Diagrammlayout\n",
    "layout2 = go.Layout(\n",
    "    title='Average Queries per Week',\n",
    "    xaxis=dict(title='Week'),\n",
    "    yaxis=dict(title='Average Queries'),\n",
    "    hovermode='x unified',\n",
    "    height=700 \n",
    ")\n",
    "\n",
    "fig2.update_layout(layout2)\n",
    "\n",
    "fig2.show()"
   ],
   "id": "2806883cdf45724d",
   "outputs": [
    {
     "data": {
      "application/vnd.plotly.v1+json": {
       "data": [
        {
         "line": {
          "color": "blue",
          "width": 2
         },
         "mode": "lines+markers",
         "name": "Average Weekly Queries",
         "x": [
          "2006-02-27T00:00:00",
          "2006-03-06T00:00:00",
          "2006-03-13T00:00:00",
          "2006-03-20T00:00:00",
          "2006-03-27T00:00:00",
          "2006-04-03T00:00:00",
          "2006-04-10T00:00:00",
          "2006-04-17T00:00:00",
          "2006-04-24T00:00:00",
          "2006-05-01T00:00:00",
          "2006-05-08T00:00:00",
          "2006-05-15T00:00:00",
          "2006-05-22T00:00:00",
          "2006-05-29T00:00:00"
         ],
         "y": [
          4.466666666666667,
          4.392857142857143,
          2.7,
          4.791666666666667,
          3.769230769230769,
          3.9523809523809526,
          3.625,
          6.142857142857143,
          3.9047619047619047,
          3.5357142857142856,
          3.793103448275862,
          11.586206896551724,
          7.578947368421052,
          4.666666666666667
         ],
         "type": "scatter"
        }
       ],
       "layout": {
        "template": {
         "data": {
          "histogram2dcontour": [
           {
            "type": "histogram2dcontour",
            "colorbar": {
             "outlinewidth": 0,
             "ticks": ""
            },
            "colorscale": [
             [
              0.0,
              "#0d0887"
             ],
             [
              0.1111111111111111,
              "#46039f"
             ],
             [
              0.2222222222222222,
              "#7201a8"
             ],
             [
              0.3333333333333333,
              "#9c179e"
             ],
             [
              0.4444444444444444,
              "#bd3786"
             ],
             [
              0.5555555555555556,
              "#d8576b"
             ],
             [
              0.6666666666666666,
              "#ed7953"
             ],
             [
              0.7777777777777778,
              "#fb9f3a"
             ],
             [
              0.8888888888888888,
              "#fdca26"
             ],
             [
              1.0,
              "#f0f921"
             ]
            ]
           }
          ],
          "choropleth": [
           {
            "type": "choropleth",
            "colorbar": {
             "outlinewidth": 0,
             "ticks": ""
            }
           }
          ],
          "histogram2d": [
           {
            "type": "histogram2d",
            "colorbar": {
             "outlinewidth": 0,
             "ticks": ""
            },
            "colorscale": [
             [
              0.0,
              "#0d0887"
             ],
             [
              0.1111111111111111,
              "#46039f"
             ],
             [
              0.2222222222222222,
              "#7201a8"
             ],
             [
              0.3333333333333333,
              "#9c179e"
             ],
             [
              0.4444444444444444,
              "#bd3786"
             ],
             [
              0.5555555555555556,
              "#d8576b"
             ],
             [
              0.6666666666666666,
              "#ed7953"
             ],
             [
              0.7777777777777778,
              "#fb9f3a"
             ],
             [
              0.8888888888888888,
              "#fdca26"
             ],
             [
              1.0,
              "#f0f921"
             ]
            ]
           }
          ],
          "heatmap": [
           {
            "type": "heatmap",
            "colorbar": {
             "outlinewidth": 0,
             "ticks": ""
            },
            "colorscale": [
             [
              0.0,
              "#0d0887"
             ],
             [
              0.1111111111111111,
              "#46039f"
             ],
             [
              0.2222222222222222,
              "#7201a8"
             ],
             [
              0.3333333333333333,
              "#9c179e"
             ],
             [
              0.4444444444444444,
              "#bd3786"
             ],
             [
              0.5555555555555556,
              "#d8576b"
             ],
             [
              0.6666666666666666,
              "#ed7953"
             ],
             [
              0.7777777777777778,
              "#fb9f3a"
             ],
             [
              0.8888888888888888,
              "#fdca26"
             ],
             [
              1.0,
              "#f0f921"
             ]
            ]
           }
          ],
          "heatmapgl": [
           {
            "type": "heatmapgl",
            "colorbar": {
             "outlinewidth": 0,
             "ticks": ""
            },
            "colorscale": [
             [
              0.0,
              "#0d0887"
             ],
             [
              0.1111111111111111,
              "#46039f"
             ],
             [
              0.2222222222222222,
              "#7201a8"
             ],
             [
              0.3333333333333333,
              "#9c179e"
             ],
             [
              0.4444444444444444,
              "#bd3786"
             ],
             [
              0.5555555555555556,
              "#d8576b"
             ],
             [
              0.6666666666666666,
              "#ed7953"
             ],
             [
              0.7777777777777778,
              "#fb9f3a"
             ],
             [
              0.8888888888888888,
              "#fdca26"
             ],
             [
              1.0,
              "#f0f921"
             ]
            ]
           }
          ],
          "contourcarpet": [
           {
            "type": "contourcarpet",
            "colorbar": {
             "outlinewidth": 0,
             "ticks": ""
            }
           }
          ],
          "contour": [
           {
            "type": "contour",
            "colorbar": {
             "outlinewidth": 0,
             "ticks": ""
            },
            "colorscale": [
             [
              0.0,
              "#0d0887"
             ],
             [
              0.1111111111111111,
              "#46039f"
             ],
             [
              0.2222222222222222,
              "#7201a8"
             ],
             [
              0.3333333333333333,
              "#9c179e"
             ],
             [
              0.4444444444444444,
              "#bd3786"
             ],
             [
              0.5555555555555556,
              "#d8576b"
             ],
             [
              0.6666666666666666,
              "#ed7953"
             ],
             [
              0.7777777777777778,
              "#fb9f3a"
             ],
             [
              0.8888888888888888,
              "#fdca26"
             ],
             [
              1.0,
              "#f0f921"
             ]
            ]
           }
          ],
          "surface": [
           {
            "type": "surface",
            "colorbar": {
             "outlinewidth": 0,
             "ticks": ""
            },
            "colorscale": [
             [
              0.0,
              "#0d0887"
             ],
             [
              0.1111111111111111,
              "#46039f"
             ],
             [
              0.2222222222222222,
              "#7201a8"
             ],
             [
              0.3333333333333333,
              "#9c179e"
             ],
             [
              0.4444444444444444,
              "#bd3786"
             ],
             [
              0.5555555555555556,
              "#d8576b"
             ],
             [
              0.6666666666666666,
              "#ed7953"
             ],
             [
              0.7777777777777778,
              "#fb9f3a"
             ],
             [
              0.8888888888888888,
              "#fdca26"
             ],
             [
              1.0,
              "#f0f921"
             ]
            ]
           }
          ],
          "mesh3d": [
           {
            "type": "mesh3d",
            "colorbar": {
             "outlinewidth": 0,
             "ticks": ""
            }
           }
          ],
          "scatter": [
           {
            "marker": {
             "line": {
              "color": "#283442"
             }
            },
            "type": "scatter"
           }
          ],
          "parcoords": [
           {
            "type": "parcoords",
            "line": {
             "colorbar": {
              "outlinewidth": 0,
              "ticks": ""
             }
            }
           }
          ],
          "scatterpolargl": [
           {
            "type": "scatterpolargl",
            "marker": {
             "colorbar": {
              "outlinewidth": 0,
              "ticks": ""
             }
            }
           }
          ],
          "bar": [
           {
            "error_x": {
             "color": "#f2f5fa"
            },
            "error_y": {
             "color": "#f2f5fa"
            },
            "marker": {
             "line": {
              "color": "rgb(17,17,17)",
              "width": 0.5
             },
             "pattern": {
              "fillmode": "overlay",
              "size": 10,
              "solidity": 0.2
             }
            },
            "type": "bar"
           }
          ],
          "scattergeo": [
           {
            "type": "scattergeo",
            "marker": {
             "colorbar": {
              "outlinewidth": 0,
              "ticks": ""
             }
            }
           }
          ],
          "scatterpolar": [
           {
            "type": "scatterpolar",
            "marker": {
             "colorbar": {
              "outlinewidth": 0,
              "ticks": ""
             }
            }
           }
          ],
          "histogram": [
           {
            "marker": {
             "pattern": {
              "fillmode": "overlay",
              "size": 10,
              "solidity": 0.2
             }
            },
            "type": "histogram"
           }
          ],
          "scattergl": [
           {
            "marker": {
             "line": {
              "color": "#283442"
             }
            },
            "type": "scattergl"
           }
          ],
          "scatter3d": [
           {
            "type": "scatter3d",
            "line": {
             "colorbar": {
              "outlinewidth": 0,
              "ticks": ""
             }
            },
            "marker": {
             "colorbar": {
              "outlinewidth": 0,
              "ticks": ""
             }
            }
           }
          ],
          "scattermapbox": [
           {
            "type": "scattermapbox",
            "marker": {
             "colorbar": {
              "outlinewidth": 0,
              "ticks": ""
             }
            }
           }
          ],
          "scatterternary": [
           {
            "type": "scatterternary",
            "marker": {
             "colorbar": {
              "outlinewidth": 0,
              "ticks": ""
             }
            }
           }
          ],
          "scattercarpet": [
           {
            "type": "scattercarpet",
            "marker": {
             "colorbar": {
              "outlinewidth": 0,
              "ticks": ""
             }
            }
           }
          ],
          "carpet": [
           {
            "aaxis": {
             "endlinecolor": "#A2B1C6",
             "gridcolor": "#506784",
             "linecolor": "#506784",
             "minorgridcolor": "#506784",
             "startlinecolor": "#A2B1C6"
            },
            "baxis": {
             "endlinecolor": "#A2B1C6",
             "gridcolor": "#506784",
             "linecolor": "#506784",
             "minorgridcolor": "#506784",
             "startlinecolor": "#A2B1C6"
            },
            "type": "carpet"
           }
          ],
          "table": [
           {
            "cells": {
             "fill": {
              "color": "#506784"
             },
             "line": {
              "color": "rgb(17,17,17)"
             }
            },
            "header": {
             "fill": {
              "color": "#2a3f5f"
             },
             "line": {
              "color": "rgb(17,17,17)"
             }
            },
            "type": "table"
           }
          ],
          "barpolar": [
           {
            "marker": {
             "line": {
              "color": "rgb(17,17,17)",
              "width": 0.5
             },
             "pattern": {
              "fillmode": "overlay",
              "size": 10,
              "solidity": 0.2
             }
            },
            "type": "barpolar"
           }
          ],
          "pie": [
           {
            "automargin": true,
            "type": "pie"
           }
          ]
         },
         "layout": {
          "autotypenumbers": "strict",
          "colorway": [
           "#636efa",
           "#EF553B",
           "#00cc96",
           "#ab63fa",
           "#FFA15A",
           "#19d3f3",
           "#FF6692",
           "#B6E880",
           "#FF97FF",
           "#FECB52"
          ],
          "font": {
           "color": "#f2f5fa"
          },
          "hovermode": "closest",
          "hoverlabel": {
           "align": "left"
          },
          "paper_bgcolor": "rgb(17,17,17)",
          "plot_bgcolor": "rgb(17,17,17)",
          "polar": {
           "bgcolor": "rgb(17,17,17)",
           "angularaxis": {
            "gridcolor": "#506784",
            "linecolor": "#506784",
            "ticks": ""
           },
           "radialaxis": {
            "gridcolor": "#506784",
            "linecolor": "#506784",
            "ticks": ""
           }
          },
          "ternary": {
           "bgcolor": "rgb(17,17,17)",
           "aaxis": {
            "gridcolor": "#506784",
            "linecolor": "#506784",
            "ticks": ""
           },
           "baxis": {
            "gridcolor": "#506784",
            "linecolor": "#506784",
            "ticks": ""
           },
           "caxis": {
            "gridcolor": "#506784",
            "linecolor": "#506784",
            "ticks": ""
           }
          },
          "coloraxis": {
           "colorbar": {
            "outlinewidth": 0,
            "ticks": ""
           }
          },
          "colorscale": {
           "sequential": [
            [
             0.0,
             "#0d0887"
            ],
            [
             0.1111111111111111,
             "#46039f"
            ],
            [
             0.2222222222222222,
             "#7201a8"
            ],
            [
             0.3333333333333333,
             "#9c179e"
            ],
            [
             0.4444444444444444,
             "#bd3786"
            ],
            [
             0.5555555555555556,
             "#d8576b"
            ],
            [
             0.6666666666666666,
             "#ed7953"
            ],
            [
             0.7777777777777778,
             "#fb9f3a"
            ],
            [
             0.8888888888888888,
             "#fdca26"
            ],
            [
             1.0,
             "#f0f921"
            ]
           ],
           "sequentialminus": [
            [
             0.0,
             "#0d0887"
            ],
            [
             0.1111111111111111,
             "#46039f"
            ],
            [
             0.2222222222222222,
             "#7201a8"
            ],
            [
             0.3333333333333333,
             "#9c179e"
            ],
            [
             0.4444444444444444,
             "#bd3786"
            ],
            [
             0.5555555555555556,
             "#d8576b"
            ],
            [
             0.6666666666666666,
             "#ed7953"
            ],
            [
             0.7777777777777778,
             "#fb9f3a"
            ],
            [
             0.8888888888888888,
             "#fdca26"
            ],
            [
             1.0,
             "#f0f921"
            ]
           ],
           "diverging": [
            [
             0,
             "#8e0152"
            ],
            [
             0.1,
             "#c51b7d"
            ],
            [
             0.2,
             "#de77ae"
            ],
            [
             0.3,
             "#f1b6da"
            ],
            [
             0.4,
             "#fde0ef"
            ],
            [
             0.5,
             "#f7f7f7"
            ],
            [
             0.6,
             "#e6f5d0"
            ],
            [
             0.7,
             "#b8e186"
            ],
            [
             0.8,
             "#7fbc41"
            ],
            [
             0.9,
             "#4d9221"
            ],
            [
             1,
             "#276419"
            ]
           ]
          },
          "xaxis": {
           "gridcolor": "#283442",
           "linecolor": "#506784",
           "ticks": "",
           "title": {
            "standoff": 15
           },
           "zerolinecolor": "#283442",
           "automargin": true,
           "zerolinewidth": 2
          },
          "yaxis": {
           "gridcolor": "#283442",
           "linecolor": "#506784",
           "ticks": "",
           "title": {
            "standoff": 15
           },
           "zerolinecolor": "#283442",
           "automargin": true,
           "zerolinewidth": 2
          },
          "scene": {
           "xaxis": {
            "backgroundcolor": "rgb(17,17,17)",
            "gridcolor": "#506784",
            "linecolor": "#506784",
            "showbackground": true,
            "ticks": "",
            "zerolinecolor": "#C8D4E3",
            "gridwidth": 2
           },
           "yaxis": {
            "backgroundcolor": "rgb(17,17,17)",
            "gridcolor": "#506784",
            "linecolor": "#506784",
            "showbackground": true,
            "ticks": "",
            "zerolinecolor": "#C8D4E3",
            "gridwidth": 2
           },
           "zaxis": {
            "backgroundcolor": "rgb(17,17,17)",
            "gridcolor": "#506784",
            "linecolor": "#506784",
            "showbackground": true,
            "ticks": "",
            "zerolinecolor": "#C8D4E3",
            "gridwidth": 2
           }
          },
          "shapedefaults": {
           "line": {
            "color": "#f2f5fa"
           }
          },
          "annotationdefaults": {
           "arrowcolor": "#f2f5fa",
           "arrowhead": 0,
           "arrowwidth": 1
          },
          "geo": {
           "bgcolor": "rgb(17,17,17)",
           "landcolor": "rgb(17,17,17)",
           "subunitcolor": "#506784",
           "showland": true,
           "showlakes": true,
           "lakecolor": "rgb(17,17,17)"
          },
          "title": {
           "x": 0.05
          },
          "updatemenudefaults": {
           "bgcolor": "#506784",
           "borderwidth": 0
          },
          "sliderdefaults": {
           "bgcolor": "#C8D4E3",
           "borderwidth": 1,
           "bordercolor": "rgb(17,17,17)",
           "tickwidth": 0
          },
          "mapbox": {
           "style": "dark"
          }
         }
        },
        "title": {
         "text": "Average Queries per Week"
        },
        "xaxis": {
         "title": {
          "text": "Week"
         }
        },
        "yaxis": {
         "title": {
          "text": "Average Queries"
         }
        },
        "height": 700,
        "hovermode": "x unified"
       },
       "config": {
        "plotlyServerURL": "https://plot.ly"
       }
      },
      "text/html": [
       "<div>                            <div id=\"4371da94-49ed-4148-b28c-fcbc78640d3d\" class=\"plotly-graph-div\" style=\"height:700px; width:100%;\"></div>            <script type=\"text/javascript\">                require([\"plotly\"], function(Plotly) {                    window.PLOTLYENV=window.PLOTLYENV || {};                                    if (document.getElementById(\"4371da94-49ed-4148-b28c-fcbc78640d3d\")) {                    Plotly.newPlot(                        \"4371da94-49ed-4148-b28c-fcbc78640d3d\",                        [{\"line\":{\"color\":\"blue\",\"width\":2},\"mode\":\"lines+markers\",\"name\":\"Average Weekly Queries\",\"x\":[\"2006-02-27T00:00:00\",\"2006-03-06T00:00:00\",\"2006-03-13T00:00:00\",\"2006-03-20T00:00:00\",\"2006-03-27T00:00:00\",\"2006-04-03T00:00:00\",\"2006-04-10T00:00:00\",\"2006-04-17T00:00:00\",\"2006-04-24T00:00:00\",\"2006-05-01T00:00:00\",\"2006-05-08T00:00:00\",\"2006-05-15T00:00:00\",\"2006-05-22T00:00:00\",\"2006-05-29T00:00:00\"],\"y\":[4.466666666666667,4.392857142857143,2.7,4.791666666666667,3.769230769230769,3.9523809523809526,3.625,6.142857142857143,3.9047619047619047,3.5357142857142856,3.793103448275862,11.586206896551724,7.578947368421052,4.666666666666667],\"type\":\"scatter\"}],                        {\"template\":{\"data\":{\"histogram2dcontour\":[{\"type\":\"histogram2dcontour\",\"colorbar\":{\"outlinewidth\":0,\"ticks\":\"\"},\"colorscale\":[[0.0,\"#0d0887\"],[0.1111111111111111,\"#46039f\"],[0.2222222222222222,\"#7201a8\"],[0.3333333333333333,\"#9c179e\"],[0.4444444444444444,\"#bd3786\"],[0.5555555555555556,\"#d8576b\"],[0.6666666666666666,\"#ed7953\"],[0.7777777777777778,\"#fb9f3a\"],[0.8888888888888888,\"#fdca26\"],[1.0,\"#f0f921\"]]}],\"choropleth\":[{\"type\":\"choropleth\",\"colorbar\":{\"outlinewidth\":0,\"ticks\":\"\"}}],\"histogram2d\":[{\"type\":\"histogram2d\",\"colorbar\":{\"outlinewidth\":0,\"ticks\":\"\"},\"colorscale\":[[0.0,\"#0d0887\"],[0.1111111111111111,\"#46039f\"],[0.2222222222222222,\"#7201a8\"],[0.3333333333333333,\"#9c179e\"],[0.4444444444444444,\"#bd3786\"],[0.5555555555555556,\"#d8576b\"],[0.6666666666666666,\"#ed7953\"],[0.7777777777777778,\"#fb9f3a\"],[0.8888888888888888,\"#fdca26\"],[1.0,\"#f0f921\"]]}],\"heatmap\":[{\"type\":\"heatmap\",\"colorbar\":{\"outlinewidth\":0,\"ticks\":\"\"},\"colorscale\":[[0.0,\"#0d0887\"],[0.1111111111111111,\"#46039f\"],[0.2222222222222222,\"#7201a8\"],[0.3333333333333333,\"#9c179e\"],[0.4444444444444444,\"#bd3786\"],[0.5555555555555556,\"#d8576b\"],[0.6666666666666666,\"#ed7953\"],[0.7777777777777778,\"#fb9f3a\"],[0.8888888888888888,\"#fdca26\"],[1.0,\"#f0f921\"]]}],\"heatmapgl\":[{\"type\":\"heatmapgl\",\"colorbar\":{\"outlinewidth\":0,\"ticks\":\"\"},\"colorscale\":[[0.0,\"#0d0887\"],[0.1111111111111111,\"#46039f\"],[0.2222222222222222,\"#7201a8\"],[0.3333333333333333,\"#9c179e\"],[0.4444444444444444,\"#bd3786\"],[0.5555555555555556,\"#d8576b\"],[0.6666666666666666,\"#ed7953\"],[0.7777777777777778,\"#fb9f3a\"],[0.8888888888888888,\"#fdca26\"],[1.0,\"#f0f921\"]]}],\"contourcarpet\":[{\"type\":\"contourcarpet\",\"colorbar\":{\"outlinewidth\":0,\"ticks\":\"\"}}],\"contour\":[{\"type\":\"contour\",\"colorbar\":{\"outlinewidth\":0,\"ticks\":\"\"},\"colorscale\":[[0.0,\"#0d0887\"],[0.1111111111111111,\"#46039f\"],[0.2222222222222222,\"#7201a8\"],[0.3333333333333333,\"#9c179e\"],[0.4444444444444444,\"#bd3786\"],[0.5555555555555556,\"#d8576b\"],[0.6666666666666666,\"#ed7953\"],[0.7777777777777778,\"#fb9f3a\"],[0.8888888888888888,\"#fdca26\"],[1.0,\"#f0f921\"]]}],\"surface\":[{\"type\":\"surface\",\"colorbar\":{\"outlinewidth\":0,\"ticks\":\"\"},\"colorscale\":[[0.0,\"#0d0887\"],[0.1111111111111111,\"#46039f\"],[0.2222222222222222,\"#7201a8\"],[0.3333333333333333,\"#9c179e\"],[0.4444444444444444,\"#bd3786\"],[0.5555555555555556,\"#d8576b\"],[0.6666666666666666,\"#ed7953\"],[0.7777777777777778,\"#fb9f3a\"],[0.8888888888888888,\"#fdca26\"],[1.0,\"#f0f921\"]]}],\"mesh3d\":[{\"type\":\"mesh3d\",\"colorbar\":{\"outlinewidth\":0,\"ticks\":\"\"}}],\"scatter\":[{\"marker\":{\"line\":{\"color\":\"#283442\"}},\"type\":\"scatter\"}],\"parcoords\":[{\"type\":\"parcoords\",\"line\":{\"colorbar\":{\"outlinewidth\":0,\"ticks\":\"\"}}}],\"scatterpolargl\":[{\"type\":\"scatterpolargl\",\"marker\":{\"colorbar\":{\"outlinewidth\":0,\"ticks\":\"\"}}}],\"bar\":[{\"error_x\":{\"color\":\"#f2f5fa\"},\"error_y\":{\"color\":\"#f2f5fa\"},\"marker\":{\"line\":{\"color\":\"rgb(17,17,17)\",\"width\":0.5},\"pattern\":{\"fillmode\":\"overlay\",\"size\":10,\"solidity\":0.2}},\"type\":\"bar\"}],\"scattergeo\":[{\"type\":\"scattergeo\",\"marker\":{\"colorbar\":{\"outlinewidth\":0,\"ticks\":\"\"}}}],\"scatterpolar\":[{\"type\":\"scatterpolar\",\"marker\":{\"colorbar\":{\"outlinewidth\":0,\"ticks\":\"\"}}}],\"histogram\":[{\"marker\":{\"pattern\":{\"fillmode\":\"overlay\",\"size\":10,\"solidity\":0.2}},\"type\":\"histogram\"}],\"scattergl\":[{\"marker\":{\"line\":{\"color\":\"#283442\"}},\"type\":\"scattergl\"}],\"scatter3d\":[{\"type\":\"scatter3d\",\"line\":{\"colorbar\":{\"outlinewidth\":0,\"ticks\":\"\"}},\"marker\":{\"colorbar\":{\"outlinewidth\":0,\"ticks\":\"\"}}}],\"scattermapbox\":[{\"type\":\"scattermapbox\",\"marker\":{\"colorbar\":{\"outlinewidth\":0,\"ticks\":\"\"}}}],\"scatterternary\":[{\"type\":\"scatterternary\",\"marker\":{\"colorbar\":{\"outlinewidth\":0,\"ticks\":\"\"}}}],\"scattercarpet\":[{\"type\":\"scattercarpet\",\"marker\":{\"colorbar\":{\"outlinewidth\":0,\"ticks\":\"\"}}}],\"carpet\":[{\"aaxis\":{\"endlinecolor\":\"#A2B1C6\",\"gridcolor\":\"#506784\",\"linecolor\":\"#506784\",\"minorgridcolor\":\"#506784\",\"startlinecolor\":\"#A2B1C6\"},\"baxis\":{\"endlinecolor\":\"#A2B1C6\",\"gridcolor\":\"#506784\",\"linecolor\":\"#506784\",\"minorgridcolor\":\"#506784\",\"startlinecolor\":\"#A2B1C6\"},\"type\":\"carpet\"}],\"table\":[{\"cells\":{\"fill\":{\"color\":\"#506784\"},\"line\":{\"color\":\"rgb(17,17,17)\"}},\"header\":{\"fill\":{\"color\":\"#2a3f5f\"},\"line\":{\"color\":\"rgb(17,17,17)\"}},\"type\":\"table\"}],\"barpolar\":[{\"marker\":{\"line\":{\"color\":\"rgb(17,17,17)\",\"width\":0.5},\"pattern\":{\"fillmode\":\"overlay\",\"size\":10,\"solidity\":0.2}},\"type\":\"barpolar\"}],\"pie\":[{\"automargin\":true,\"type\":\"pie\"}]},\"layout\":{\"autotypenumbers\":\"strict\",\"colorway\":[\"#636efa\",\"#EF553B\",\"#00cc96\",\"#ab63fa\",\"#FFA15A\",\"#19d3f3\",\"#FF6692\",\"#B6E880\",\"#FF97FF\",\"#FECB52\"],\"font\":{\"color\":\"#f2f5fa\"},\"hovermode\":\"closest\",\"hoverlabel\":{\"align\":\"left\"},\"paper_bgcolor\":\"rgb(17,17,17)\",\"plot_bgcolor\":\"rgb(17,17,17)\",\"polar\":{\"bgcolor\":\"rgb(17,17,17)\",\"angularaxis\":{\"gridcolor\":\"#506784\",\"linecolor\":\"#506784\",\"ticks\":\"\"},\"radialaxis\":{\"gridcolor\":\"#506784\",\"linecolor\":\"#506784\",\"ticks\":\"\"}},\"ternary\":{\"bgcolor\":\"rgb(17,17,17)\",\"aaxis\":{\"gridcolor\":\"#506784\",\"linecolor\":\"#506784\",\"ticks\":\"\"},\"baxis\":{\"gridcolor\":\"#506784\",\"linecolor\":\"#506784\",\"ticks\":\"\"},\"caxis\":{\"gridcolor\":\"#506784\",\"linecolor\":\"#506784\",\"ticks\":\"\"}},\"coloraxis\":{\"colorbar\":{\"outlinewidth\":0,\"ticks\":\"\"}},\"colorscale\":{\"sequential\":[[0.0,\"#0d0887\"],[0.1111111111111111,\"#46039f\"],[0.2222222222222222,\"#7201a8\"],[0.3333333333333333,\"#9c179e\"],[0.4444444444444444,\"#bd3786\"],[0.5555555555555556,\"#d8576b\"],[0.6666666666666666,\"#ed7953\"],[0.7777777777777778,\"#fb9f3a\"],[0.8888888888888888,\"#fdca26\"],[1.0,\"#f0f921\"]],\"sequentialminus\":[[0.0,\"#0d0887\"],[0.1111111111111111,\"#46039f\"],[0.2222222222222222,\"#7201a8\"],[0.3333333333333333,\"#9c179e\"],[0.4444444444444444,\"#bd3786\"],[0.5555555555555556,\"#d8576b\"],[0.6666666666666666,\"#ed7953\"],[0.7777777777777778,\"#fb9f3a\"],[0.8888888888888888,\"#fdca26\"],[1.0,\"#f0f921\"]],\"diverging\":[[0,\"#8e0152\"],[0.1,\"#c51b7d\"],[0.2,\"#de77ae\"],[0.3,\"#f1b6da\"],[0.4,\"#fde0ef\"],[0.5,\"#f7f7f7\"],[0.6,\"#e6f5d0\"],[0.7,\"#b8e186\"],[0.8,\"#7fbc41\"],[0.9,\"#4d9221\"],[1,\"#276419\"]]},\"xaxis\":{\"gridcolor\":\"#283442\",\"linecolor\":\"#506784\",\"ticks\":\"\",\"title\":{\"standoff\":15},\"zerolinecolor\":\"#283442\",\"automargin\":true,\"zerolinewidth\":2},\"yaxis\":{\"gridcolor\":\"#283442\",\"linecolor\":\"#506784\",\"ticks\":\"\",\"title\":{\"standoff\":15},\"zerolinecolor\":\"#283442\",\"automargin\":true,\"zerolinewidth\":2},\"scene\":{\"xaxis\":{\"backgroundcolor\":\"rgb(17,17,17)\",\"gridcolor\":\"#506784\",\"linecolor\":\"#506784\",\"showbackground\":true,\"ticks\":\"\",\"zerolinecolor\":\"#C8D4E3\",\"gridwidth\":2},\"yaxis\":{\"backgroundcolor\":\"rgb(17,17,17)\",\"gridcolor\":\"#506784\",\"linecolor\":\"#506784\",\"showbackground\":true,\"ticks\":\"\",\"zerolinecolor\":\"#C8D4E3\",\"gridwidth\":2},\"zaxis\":{\"backgroundcolor\":\"rgb(17,17,17)\",\"gridcolor\":\"#506784\",\"linecolor\":\"#506784\",\"showbackground\":true,\"ticks\":\"\",\"zerolinecolor\":\"#C8D4E3\",\"gridwidth\":2}},\"shapedefaults\":{\"line\":{\"color\":\"#f2f5fa\"}},\"annotationdefaults\":{\"arrowcolor\":\"#f2f5fa\",\"arrowhead\":0,\"arrowwidth\":1},\"geo\":{\"bgcolor\":\"rgb(17,17,17)\",\"landcolor\":\"rgb(17,17,17)\",\"subunitcolor\":\"#506784\",\"showland\":true,\"showlakes\":true,\"lakecolor\":\"rgb(17,17,17)\"},\"title\":{\"x\":0.05},\"updatemenudefaults\":{\"bgcolor\":\"#506784\",\"borderwidth\":0},\"sliderdefaults\":{\"bgcolor\":\"#C8D4E3\",\"borderwidth\":1,\"bordercolor\":\"rgb(17,17,17)\",\"tickwidth\":0},\"mapbox\":{\"style\":\"dark\"}}},\"title\":{\"text\":\"Average Queries per Week\"},\"xaxis\":{\"title\":{\"text\":\"Week\"}},\"yaxis\":{\"title\":{\"text\":\"Average Queries\"}},\"height\":700,\"hovermode\":\"x unified\"},                        {\"responsive\": true}                    ).then(function(){\n",
       "                            \n",
       "var gd = document.getElementById('4371da94-49ed-4148-b28c-fcbc78640d3d');\n",
       "var x = new MutationObserver(function (mutations, observer) {{\n",
       "        var display = window.getComputedStyle(gd).display;\n",
       "        if (!display || display === 'none') {{\n",
       "            console.log([gd, 'removed!']);\n",
       "            Plotly.purge(gd);\n",
       "            observer.disconnect();\n",
       "        }}\n",
       "}});\n",
       "\n",
       "// Listen for the removal of the full notebook cells\n",
       "var notebookContainer = gd.closest('#notebook-container');\n",
       "if (notebookContainer) {{\n",
       "    x.observe(notebookContainer, {childList: true});\n",
       "}}\n",
       "\n",
       "// Listen for the clearing of the current output cell\n",
       "var outputEl = gd.closest('.output');\n",
       "if (outputEl) {{\n",
       "    x.observe(outputEl, {childList: true});\n",
       "}}\n",
       "\n",
       "                        })                };                });            </script>        </div>"
      ]
     },
     "metadata": {},
     "output_type": "display_data"
    }
   ],
   "execution_count": 141
  },
  {
   "metadata": {
    "ExecuteTime": {
     "end_time": "2024-07-01T17:33:19.758116Z",
     "start_time": "2024-07-01T17:33:19.756607Z"
    }
   },
   "cell_type": "code",
   "source": "",
   "id": "fb3ee359932a656",
   "outputs": [],
   "execution_count": 138
  }
 ],
 "metadata": {
  "kernelspec": {
   "display_name": "Python 3",
   "language": "python",
   "name": "python3"
  },
  "language_info": {
   "codemirror_mode": {
    "name": "ipython",
    "version": 2
   },
   "file_extension": ".py",
   "mimetype": "text/x-python",
   "name": "python",
   "nbconvert_exporter": "python",
   "pygments_lexer": "ipython2",
   "version": "2.7.6"
  }
 },
 "nbformat": 4,
 "nbformat_minor": 5
}
